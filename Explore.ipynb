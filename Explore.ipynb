{
 "cells": [
  {
   "cell_type": "code",
   "execution_count": 1,
   "metadata": {},
   "outputs": [
    {
     "data": {
      "text/plain": [
       "'/home/vivek/anaconda3/bin/python'"
      ]
     },
     "execution_count": 1,
     "metadata": {},
     "output_type": "execute_result"
    }
   ],
   "source": [
    "import sys\n",
    "sys.executable"
   ]
  },
  {
   "cell_type": "markdown",
   "metadata": {},
   "source": [
    "# Imports "
   ]
  },
  {
   "cell_type": "code",
   "execution_count": 387,
   "metadata": {},
   "outputs": [],
   "source": [
    "from pyspark.sql.types import *\n",
    "from pyspark_dist_explore import hist\n",
    "import pyspark.sql.functions as F\n",
    "from pyspark.sql.functions import isnan, when, count, col, stddev, avg, lit, log, round, isnull, exp\n",
    "import mysql.connector\n",
    "\n",
    "import plotly.plotly as py\n",
    "import matplotlib.pyplot as plt\n",
    "import seaborn as sns\n",
    "import numpy as np\n",
    "import pandas as pd\n",
    "\n",
    "from pyspark.mllib.stat import Statistics\n",
    "from pyspark.ml.feature import VectorAssembler, OneHotEncoder\n",
    "from pyspark.ml.feature import PolynomialExpansion, StringIndexer, VectorIndexer\n",
    "from pyspark.ml.regression import LinearRegression, DecisionTreeRegressor, RandomForestRegressor\n",
    "from pyspark.ml.evaluation import RegressionEvaluator\n",
    "from pyspark.ml.tuning import CrossValidator, ParamGridBuilder\n",
    "\n",
    "plt.rcParams['figure.figsize'] = [20, 10]\n"
   ]
  },
  {
   "cell_type": "code",
   "execution_count": 388,
   "metadata": {},
   "outputs": [],
   "source": [
    "\n",
    "mydb = mysql.connector.connect(\n",
    "  host=\"localhost\",\n",
    "  user=\"root\",\n",
    "  passwd=\"root\",\n",
    "  database=\"house_pricing\"\n",
    ")\n",
    "\n",
    "input_df = pd.read_sql('SELECT * FROM house', con=mydb)"
   ]
  },
  {
   "cell_type": "code",
   "execution_count": 323,
   "metadata": {},
   "outputs": [],
   "source": [
    "input_file = sc.textFile(\"aSaw_Data.csv\")"
   ]
  },
  {
   "cell_type": "code",
   "execution_count": 389,
   "metadata": {
    "scrolled": true
   },
   "outputs": [],
   "source": [
    "def convertToInt(row):\n",
    "    new_row = []\n",
    "    count = 0\n",
    "    for i in row:\n",
    "        if count == 1:\n",
    "            new_row.append(i.replace('\"', \"\").replace(\"'\",''))\n",
    "        else:\n",
    "            new_row.append(float(i.replace('\"', \"\")))\n",
    "        count += 1\n",
    "    return new_row\n",
    "header = input_file.first()\n",
    "rows = input_file.filter(lambda l: l!=header).map(lambda l: tuple(convertToInt(l.split(\",\"))))"
   ]
  },
  {
   "cell_type": "code",
   "execution_count": 390,
   "metadata": {},
   "outputs": [],
   "source": [
    "header_fields = input_file.first().split(\",\")\n",
    "struct_types = []\n",
    "count = 0\n",
    "for i in header_fields:\n",
    "    if count == 1:\n",
    "        struct_types.append(StructField(i, StringType(), True))\n",
    "    else:\n",
    "        struct_types.append(StructField(i, FloatType(), True))\n",
    "    count += 1\n",
    "schema = StructType(struct_types)"
   ]
  },
  {
   "cell_type": "code",
   "execution_count": 391,
   "metadata": {},
   "outputs": [
    {
     "data": {
      "text/plain": [
       "StructType(List(StructField(id,FloatType,true),StructField(date,StringType,true),StructField(price,FloatType,true),StructField(bedrooms,FloatType,true),StructField(bathrooms,FloatType,true),StructField(sqft_living,FloatType,true),StructField(sqft_lot,FloatType,true),StructField(floors,FloatType,true),StructField(waterfront,FloatType,true),StructField(view,FloatType,true),StructField(condition,FloatType,true),StructField(grade,FloatType,true),StructField(sqft_above,FloatType,true),StructField(sqft_basement,FloatType,true),StructField(yr_built,FloatType,true),StructField(yr_renovated,FloatType,true),StructField(zipcode,FloatType,true),StructField(lat,FloatType,true),StructField(long,FloatType,true),StructField(sqft_living15,FloatType,true),StructField(sqft_lot15,FloatType,true)))"
      ]
     },
     "execution_count": 391,
     "metadata": {},
     "output_type": "execute_result"
    }
   ],
   "source": [
    "schema"
   ]
  },
  {
   "cell_type": "code",
   "execution_count": 392,
   "metadata": {},
   "outputs": [],
   "source": [
    "input_df = spark.createDataFrame(rows, schema)"
   ]
  },
  {
   "cell_type": "code",
   "execution_count": 393,
   "metadata": {
    "scrolled": true
   },
   "outputs": [
    {
     "name": "stdout",
     "output_type": "stream",
     "text": [
      "+---------+\n",
      "|    price|\n",
      "+---------+\n",
      "| 221900.0|\n",
      "| 538000.0|\n",
      "| 180000.0|\n",
      "| 604000.0|\n",
      "| 510000.0|\n",
      "|1225000.0|\n",
      "| 257500.0|\n",
      "| 291850.0|\n",
      "| 229500.0|\n",
      "| 323000.0|\n",
      "| 662500.0|\n",
      "| 468000.0|\n",
      "| 310000.0|\n",
      "| 400000.0|\n",
      "| 530000.0|\n",
      "| 650000.0|\n",
      "| 395000.0|\n",
      "| 485000.0|\n",
      "| 189000.0|\n",
      "| 230000.0|\n",
      "+---------+\n",
      "only showing top 20 rows\n",
      "\n"
     ]
    }
   ],
   "source": [
    "input_df.select(\"price\").show()"
   ]
  },
  {
   "cell_type": "code",
   "execution_count": 394,
   "metadata": {
    "scrolled": true
   },
   "outputs": [
    {
     "name": "stdout",
     "output_type": "stream",
     "text": [
      "root\n",
      " |-- id: float (nullable = true)\n",
      " |-- date: string (nullable = true)\n",
      " |-- price: float (nullable = true)\n",
      " |-- bedrooms: float (nullable = true)\n",
      " |-- bathrooms: float (nullable = true)\n",
      " |-- sqft_living: float (nullable = true)\n",
      " |-- sqft_lot: float (nullable = true)\n",
      " |-- floors: float (nullable = true)\n",
      " |-- waterfront: float (nullable = true)\n",
      " |-- view: float (nullable = true)\n",
      " |-- condition: float (nullable = true)\n",
      " |-- grade: float (nullable = true)\n",
      " |-- sqft_above: float (nullable = true)\n",
      " |-- sqft_basement: float (nullable = true)\n",
      " |-- yr_built: float (nullable = true)\n",
      " |-- yr_renovated: float (nullable = true)\n",
      " |-- zipcode: float (nullable = true)\n",
      " |-- lat: float (nullable = true)\n",
      " |-- long: float (nullable = true)\n",
      " |-- sqft_living15: float (nullable = true)\n",
      " |-- sqft_lot15: float (nullable = true)\n",
      "\n"
     ]
    }
   ],
   "source": [
    "input_df.printSchema()"
   ]
  },
  {
   "cell_type": "code",
   "execution_count": null,
   "metadata": {},
   "outputs": [],
   "source": []
  },
  {
   "cell_type": "code",
   "execution_count": 395,
   "metadata": {},
   "outputs": [
    {
     "name": "stdout",
     "output_type": "stream",
     "text": [
      "Row(max(price)=7700000.0)\n",
      "Row(avg(price)=540088.1417665294)\n",
      "Row(min(price)=75000.0)\n"
     ]
    }
   ],
   "source": [
    "print(input_df.select(\"price\").agg({\"price\": \"max\"}).collect()[0])\n",
    "print(input_df.select(\"price\").agg({\"price\": \"mean\"}).collect()[0])\n",
    "print(input_df.select(\"price\").agg({\"price\": \"min\"}).collect()[0])"
   ]
  },
  {
   "cell_type": "code",
   "execution_count": 396,
   "metadata": {
    "scrolled": true
   },
   "outputs": [
    {
     "name": "stdout",
     "output_type": "stream",
     "text": [
      "+---------+----+-----+\n",
      "|condition|view|grade|\n",
      "+---------+----+-----+\n",
      "|      3.0| 0.0|  7.0|\n",
      "|      3.0| 0.0|  7.0|\n",
      "|      3.0| 0.0|  6.0|\n",
      "|      5.0| 0.0|  7.0|\n",
      "|      3.0| 0.0|  8.0|\n",
      "|      3.0| 0.0| 11.0|\n",
      "|      3.0| 0.0|  7.0|\n",
      "|      3.0| 0.0|  7.0|\n",
      "|      3.0| 0.0|  7.0|\n",
      "|      3.0| 0.0|  7.0|\n",
      "|      3.0| 0.0|  8.0|\n",
      "|      4.0| 0.0|  7.0|\n",
      "|      4.0| 0.0|  7.0|\n",
      "|      4.0| 0.0|  7.0|\n",
      "|      3.0| 0.0|  7.0|\n",
      "|      3.0| 3.0|  9.0|\n",
      "|      3.0| 0.0|  7.0|\n",
      "|      4.0| 0.0|  7.0|\n",
      "|      4.0| 0.0|  7.0|\n",
      "|      4.0| 0.0|  7.0|\n",
      "+---------+----+-----+\n",
      "only showing top 20 rows\n",
      "\n"
     ]
    }
   ],
   "source": [
    "input_df.select(['condition','view', 'grade']).show(20)"
   ]
  },
  {
   "cell_type": "code",
   "execution_count": 397,
   "metadata": {},
   "outputs": [
    {
     "name": "stdout",
     "output_type": "stream",
     "text": [
      "+---------+-----------------+\n",
      "|condition|       avg(price)|\n",
      "+---------+-----------------+\n",
      "|      5.0|612418.0893592004|\n",
      "|      2.0|327287.1453488372|\n",
      "|      3.0|542012.5781483857|\n",
      "|      1.0|334431.6666666667|\n",
      "|      4.0|521200.3900334566|\n",
      "+---------+-----------------+\n",
      "\n"
     ]
    }
   ],
   "source": [
    "input_df.groupBy('condition').agg(avg('price')).show()"
   ]
  },
  {
   "cell_type": "markdown",
   "metadata": {},
   "source": [
    "## 1st Ques: Plot a distribution and box plot for the price variable. Find out if there are any outliers and list them."
   ]
  },
  {
   "cell_type": "code",
   "execution_count": 398,
   "metadata": {},
   "outputs": [
    {
     "data": {
      "text/plain": [
       "(array([3.770e+02, 2.644e+03, 4.208e+03, 3.812e+03, 3.038e+03, 2.169e+03,\n",
       "        1.622e+03, 1.151e+03, 7.480e+02, 4.350e+02, 2.500e+02, 2.060e+02,\n",
       "        1.920e+02, 1.490e+02, 9.600e+01, 7.200e+01, 8.300e+01, 5.700e+01,\n",
       "        4.700e+01, 4.600e+01, 2.100e+01, 1.400e+01, 3.000e+01, 1.800e+01,\n",
       "        2.000e+01, 1.900e+01, 9.000e+00, 9.000e+00, 4.000e+00, 1.000e+01,\n",
       "        1.200e+01, 7.000e+00, 6.000e+00, 5.000e+00, 4.000e+00, 1.000e+00,\n",
       "        2.000e+00, 4.000e+00, 1.000e+00, 3.000e+00, 0.000e+00, 1.000e+00,\n",
       "        0.000e+00, 1.000e+00, 0.000e+00, 0.000e+00, 2.000e+00, 0.000e+00,\n",
       "        1.000e+00, 0.000e+00, 0.000e+00, 0.000e+00, 1.000e+00, 0.000e+00,\n",
       "        1.000e+00, 1.000e+00, 0.000e+00, 1.000e+00, 0.000e+00, 0.000e+00,\n",
       "        0.000e+00, 0.000e+00, 0.000e+00, 0.000e+00, 0.000e+00, 0.000e+00,\n",
       "        0.000e+00, 0.000e+00, 0.000e+00, 0.000e+00, 0.000e+00, 1.000e+00,\n",
       "        0.000e+00, 1.000e+00, 0.000e+00, 0.000e+00, 0.000e+00, 0.000e+00,\n",
       "        0.000e+00, 1.000e+00]),\n",
       " array([  75000. ,  170312.5,  265625. ,  360937.5,  456250. ,  551562.5,\n",
       "         646875. ,  742187.5,  837500. ,  932812.5, 1028125. , 1123437.5,\n",
       "        1218750. , 1314062.5, 1409375. , 1504687.5, 1600000. , 1695312.5,\n",
       "        1790625. , 1885937.5, 1981250. , 2076562.5, 2171875. , 2267187.5,\n",
       "        2362500. , 2457812.5, 2553125. , 2648437.5, 2743750. , 2839062.5,\n",
       "        2934375. , 3029687.5, 3125000. , 3220312.5, 3315625. , 3410937.5,\n",
       "        3506250. , 3601562.5, 3696875. , 3792187.5, 3887500. , 3982812.5,\n",
       "        4078125. , 4173437.5, 4268750. , 4364062.5, 4459375. , 4554687.5,\n",
       "        4650000. , 4745312.5, 4840625. , 4935937.5, 5031250. , 5126562.5,\n",
       "        5221875. , 5317187.5, 5412500. , 5507812.5, 5603125. , 5698437.5,\n",
       "        5793750. , 5889062.5, 5984375. , 6079687.5, 6175000. , 6270312.5,\n",
       "        6365625. , 6460937.5, 6556250. , 6651562.5, 6746875. , 6842187.5,\n",
       "        6937500. , 7032812.5, 7128125. , 7223437.5, 7318750. , 7414062.5,\n",
       "        7509375. , 7604687.5, 7700000. ]),\n",
       " <a list of 80 Patch objects>)"
      ]
     },
     "execution_count": 398,
     "metadata": {},
     "output_type": "execute_result"
    },
    {
     "data": {
      "image/png": "[encoded data removed]",
      "text/plain": [
       "<Figure size 1440x720 with 1 Axes>"
      ]
     },
     "metadata": {},
     "output_type": "display_data"
    }
   ],
   "source": [
    "bins, counts = input_df.select('price').rdd.flatMap(lambda x: x).histogram(80)\n",
    "plt.hist(bins[:-1], bins=bins, weights=counts)"
   ]
  },
  {
   "cell_type": "code",
   "execution_count": 399,
   "metadata": {
    "scrolled": true
   },
   "outputs": [
    {
     "data": {
      "text/plain": [
       "<matplotlib.axes._subplots.AxesSubplot at 0x7f4749e1aba8>"
      ]
     },
     "execution_count": 399,
     "metadata": {},
     "output_type": "execute_result"
    },
    {
     "data": {
      "image/png": "[encoded data removed]",
      "text/plain": [
       "<Figure size 1440x720 with 1 Axes>"
      ]
     },
     "metadata": {},
     "output_type": "display_data"
    }
   ],
   "source": [
    "price_df = input_df.select(['price']).toPandas()\n",
    "sns.boxplot(x= price_df['price'])"
   ]
  },
  {
   "cell_type": "raw",
   "metadata": {},
   "source": [
    "There are many outliers as seen in plot.\n",
    "Log function could be used to eliminate the outliers."
   ]
  },
  {
   "cell_type": "markdown",
   "metadata": {},
   "source": [
    "## 2nd Ques: Find out which variables are highly correlated with price."
   ]
  },
  {
   "cell_type": "code",
   "execution_count": null,
   "metadata": {
    "scrolled": true
   },
   "outputs": [
    {
     "name": "stdout",
     "output_type": "stream",
     "text": [
      "Corelation between  price and  id -0.016762196299423427\n",
      "Corelation between  price and  bedrooms 0.30834959814563817\n",
      "Corelation between  price and  bathrooms 0.5251375054139623\n",
      "Corelation between  price and  sqft_living 0.7020350546118008\n",
      "Corelation between  price and  sqft_lot 0.0896608605871001\n",
      "Corelation between  price and  floors 0.25679388755071825\n",
      "Corelation between  price and  waterfront 0.26636943403060087\n",
      "Corelation between  price and  view 0.397293488294503\n",
      "Corelation between  price and  condition 0.03636178912899724\n",
      "Corelation between  price and  grade 0.6674342560202374\n",
      "Corelation between  price and  sqft_above 0.605567298356079\n",
      "Corelation between  price and  sqft_basement 0.3238160207119829\n",
      "Corelation between  price and  yr_built 0.05401153149479274\n"
     ]
    }
   ],
   "source": [
    "for i in input_df.columns:\n",
    "    if i != \"price\" and i != \"date\":\n",
    "        print(\"Corelation between \",\"price and \", i, input_df.stat.corr( 'price', i))"
   ]
  },
  {
   "cell_type": "raw",
   "metadata": {},
   "source": [
    "These are the fields which have good correlation with price:-\n",
    "    bathrooms\n",
    "    sqft_living\n",
    "    sqft_lot\n",
    "    grade\n",
    "    sqft_above\n",
    "    yr_built\n",
    "    sqft_living15\n",
    "\n"
   ]
  },
  {
   "cell_type": "markdown",
   "metadata": {},
   "source": [
    "## 3rd Ques: Find out which zip codes have the highest median house &#39;price&#39;. Do a bar plot to depict the top 10."
   ]
  },
  {
   "cell_type": "code",
   "execution_count": null,
   "metadata": {},
   "outputs": [],
   "source": [
    "fifty_percentile = F.expr('percentile_approx(zipcode, 0.5)')\n",
    "# print(input_df.select([\"zipcode\", \"price\"]).groupBy(\"zipcode\").count().orderBy(\"count\", ascending=False).show(5))\n",
    "\n",
    "output_df_3 = input_df.select([\"zipcode\", \"price\"]).groupBy(\"zipcode\").agg(fifty_percentile.alias('med_val')).orderBy(\"med_val\", ascending=False)\n",
    "print(output_df_3.show(10))\n",
    "zip_10_top = output_df_3.toPandas()[0:10]\n",
    "zip_10_top\n",
    "sns.barplot( data = zip_10_top,\n",
    "          x='zipcode',\n",
    "          y='med_val',\n",
    "          order = zip_10_top.zipcode)\n"
   ]
  },
  {
   "cell_type": "code",
   "execution_count": null,
   "metadata": {},
   "outputs": [],
   "source": [
    "fifty_percentile = F.expr('percentile_approx(zipcode, 0.5)')\n",
    "# print(input_df.select([\"zipcode\", \"price\"]).groupBy(\"zipcode\").count().orderBy(\"count\", ascending=False).show(5))\n",
    "\n",
    "output_df_3_1 = input_df.select([\"zipcode\", \"price\"]).groupBy(\"zipcode\").mean().orderBy(\"avg(price)\", ascending=False)\n",
    "print(output_df_3_1.show(10))\n",
    "zip_10_top_mean = output_df_3_1.toPandas()[0:10]\n",
    "zip_10_top_mean\n",
    "sns.barplot( data = zip_10_top_mean,\n",
    "          x='zipcode',\n",
    "          y='avg(price)',\n",
    "          order = zip_10_top_mean.zipcode)\n"
   ]
  },
  {
   "cell_type": "markdown",
   "metadata": {},
   "source": [
    "## 4th Ques.Find out if there are any missing values in the dataset and your strategy for imputing those."
   ]
  },
  {
   "cell_type": "code",
   "execution_count": null,
   "metadata": {
    "scrolled": true
   },
   "outputs": [],
   "source": [
    "\n",
    "if(input_df.na.drop(how = 'any').count() == input_df.count()):\n",
    "    print('No missing values as values after dropping na and before dropping na are the same')\n",
    "    \n",
    "for i in input_df.columns:\n",
    "    print(i, input_df.filter(input_df[i].isNotNull()).count())\n",
    "\n",
    "\n",
    "\"\"\"\n",
    "    There are no missing values.\n",
    "\"\"\""
   ]
  },
  {
   "cell_type": "code",
   "execution_count": null,
   "metadata": {},
   "outputs": [],
   "source": [
    "input_df.count()"
   ]
  },
  {
   "cell_type": "markdown",
   "metadata": {},
   "source": [
    "## 5th Ques: Do some variables need feature engineering or transformation, if they need to be used to predict prices. Explain what transformations you will apply."
   ]
  },
  {
   "cell_type": "code",
   "execution_count": null,
   "metadata": {},
   "outputs": [],
   "source": [
    "input_df_backup = input_df"
   ]
  },
  {
   "cell_type": "code",
   "execution_count": null,
   "metadata": {
    "scrolled": true
   },
   "outputs": [],
   "source": [
    "for i in input_df.columns:\n",
    "    if i != \"price\":\n",
    "        temp_df = input_df.select([i, \"price\"]).groupBy(i).count().orderBy(\"count\", ascending=False)\n",
    "        print(i, temp_df.show(10), temp_df.count())"
   ]
  },
  {
   "cell_type": "code",
   "execution_count": null,
   "metadata": {},
   "outputs": [],
   "source": [
    "input_df = input_df_backup"
   ]
  },
  {
   "cell_type": "markdown",
   "metadata": {},
   "source": [
    "#####  Find the value of difference between current year and the year the house was built. Same for renovation"
   ]
  },
  {
   "cell_type": "code",
   "execution_count": null,
   "metadata": {},
   "outputs": [],
   "source": [
    "input_df = input_df.withColumn(\"diffCurrentAndBuild\", lit(2016) - input_df.yr_built)\n",
    "input_df = input_df.withColumn(\"diffCurrentAndRenovated\", lit(2016) - input_df.yr_renovated)\n"
   ]
  },
  {
   "cell_type": "markdown",
   "metadata": {},
   "source": [
    "##### Log value of price is used to remove the outliers"
   ]
  },
  {
   "cell_type": "code",
   "execution_count": null,
   "metadata": {},
   "outputs": [],
   "source": [
    "input_df = input_df.withColumn( 'log_price', log('price') )"
   ]
  },
  {
   "cell_type": "code",
   "execution_count": null,
   "metadata": {},
   "outputs": [],
   "source": [
    "cont_values = ['sqft_living', 'bedrooms', 'bathrooms', 'floors','diffCurrentAndBuild', 'sqft_above', 'sqft_living15', 'sqft_lot15', 'diffCurrentAndRenovated']\n",
    "\n",
    "category_values = ['zipcode', 'waterfront','grade', 'condition','view']"
   ]
  },
  {
   "cell_type": "code",
   "execution_count": null,
   "metadata": {
    "scrolled": true
   },
   "outputs": [],
   "source": [
    "input_df.show()"
   ]
  },
  {
   "cell_type": "code",
   "execution_count": null,
   "metadata": {},
   "outputs": [],
   "source": [
    "def one_hot_encode(df, col):\n",
    "    indexer = StringIndexer().setInputCol(col).setOutputCol(col+\"Index\").fit(df)\n",
    "    indexed = indexer.transform(df)\n",
    "\n",
    "    encoder = OneHotEncoder(dropLast=True).setInputCol(col+\"Index\").setOutputCol(col+\"Vec\")\n",
    "\n",
    "    encoded = encoder.transform(indexed)\n",
    "    encoded.show()\n",
    "    return encoded"
   ]
  },
  {
   "cell_type": "code",
   "execution_count": null,
   "metadata": {},
   "outputs": [],
   "source": [
    "for col in category_values:\n",
    "    input_df = one_hot_encode( input_df, col )\n"
   ]
  },
  {
   "cell_type": "code",
   "execution_count": null,
   "metadata": {},
   "outputs": [],
   "source": [
    "input_df.select('viewVec').show(1)"
   ]
  },
  {
   "cell_type": "code",
   "execution_count": null,
   "metadata": {},
   "outputs": [],
   "source": [
    "lis_vec_cols = []\n",
    "for i in category_values:\n",
    "    lis_vec_cols.append(i+\"Vec\")\n",
    "lis_vec_cols"
   ]
  },
  {
   "cell_type": "code",
   "execution_count": null,
   "metadata": {},
   "outputs": [],
   "source": [
    "all_cols = cont_values + lis_vec_cols"
   ]
  },
  {
   "cell_type": "code",
   "execution_count": null,
   "metadata": {},
   "outputs": [],
   "source": [
    "input_df.columns"
   ]
  },
  {
   "cell_type": "code",
   "execution_count": null,
   "metadata": {},
   "outputs": [],
   "source": [
    "all_cols"
   ]
  },
  {
   "cell_type": "code",
   "execution_count": null,
   "metadata": {},
   "outputs": [],
   "source": [
    "input_df.select(all_cols)"
   ]
  },
  {
   "cell_type": "code",
   "execution_count": null,
   "metadata": {
    "scrolled": true
   },
   "outputs": [],
   "source": [
    "assembler = VectorAssembler( inputCols = all_cols, outputCol = \"features\")\n",
    "output = assembler.transform(input_df)\n",
    "output.show()"
   ]
  },
  {
   "cell_type": "code",
   "execution_count": null,
   "metadata": {},
   "outputs": [],
   "source": [
    "output = output.withColumn( \"label\", round('log_price', 2) )"
   ]
  },
  {
   "cell_type": "code",
   "execution_count": null,
   "metadata": {},
   "outputs": [],
   "source": [
    "train_df, test_df = output.randomSplit( [0.75, 0.25], seed = 42 )"
   ]
  },
  {
   "cell_type": "code",
   "execution_count": null,
   "metadata": {},
   "outputs": [],
   "source": [
    "y_pred = lm.transform( test_df )\n",
    "y_pred.select( 'features', 'label', 'prediction' ).show( 5 )"
   ]
  },
  {
   "cell_type": "markdown",
   "metadata": {},
   "source": [
    "## 6 Ques.Build a regression model to predict the prices."
   ]
  },
  {
   "cell_type": "code",
   "execution_count": null,
   "metadata": {},
   "outputs": [],
   "source": [
    "def get_r2( model, test_df ):\n",
    "    y_pred = model.transform( test_df )\n",
    "    y_pred = y_pred.withColumn( \"y_pred\", exp( 'prediction' ) )\n",
    "\n",
    "    r2_evaluator = RegressionEvaluator(labelCol=\"price\",\n",
    "                              predictionCol=\"y_pred\",\n",
    "                              metricName=\"r2\" )\n",
    "\n",
    "    return r2_evaluator.evaluate(y_pred)\n",
    "\n"
   ]
  },
  {
   "cell_type": "code",
   "execution_count": null,
   "metadata": {},
   "outputs": [],
   "source": [
    "def get_rmse( model, test_df ):\n",
    "    y_pred = model.transform( test_df )\n",
    "    y_pred = y_pred.withColumn( \"y_pred\", exp( 'prediction' ) )\n",
    "    rmse_evaluator = RegressionEvaluator(labelCol=\"price\",\n",
    "                              predictionCol=\"y_pred\",\n",
    "                              metricName=\"rmse\" )\n",
    "\n",
    "    return rmse_evaluator.evaluate(y_pred)\n"
   ]
  },
  {
   "cell_type": "code",
   "execution_count": null,
   "metadata": {},
   "outputs": [],
   "source": [
    "all_models = []"
   ]
  },
  {
   "cell_type": "code",
   "execution_count": null,
   "metadata": {},
   "outputs": [],
   "source": [
    "lg = LinearRegression(maxIter=500, regParam=0.0)\n",
    "lgm = lg.fit(train_df)\n",
    "print(lgm.intercept)\n",
    "print(lgm.coefficients)\n",
    "y_pred = y_pred.withColumn(\"y_pred\", exp('prediction'))\n",
    "print(\"rmse:\",get_rmse(lgm, test_df))\n",
    "print(\"R2\", get_r2(lgm, test_df))\n",
    "all_models.append({'model':\"Linear Regression\", \"rmse\": get_rmse(lgm, test_df), \"R2\":get_r2(lgm, test_df)})"
   ]
  },
  {
   "cell_type": "markdown",
   "metadata": {},
   "source": [
    "## 7 Ques.Build the linear model with L1 and L2 regularization parameters. Do a Grid Search for to find optimal values for hyper parameters."
   ]
  },
  {
   "cell_type": "markdown",
   "metadata": {},
   "source": [
    "## Ridge"
   ]
  },
  {
   "cell_type": "code",
   "execution_count": 373,
   "metadata": {},
   "outputs": [],
   "source": [
    "lrm = LinearRegression(maxIter=50)\n",
    "paramGrid = ParamGridBuilder().addGrid(lrm.regParam, np.logspace(-1,-3, 3)).addGrid(lrm.elasticNetParam, [0.0]).build()\n",
    "evaluator = RegressionEvaluator(\n",
    "  metricName=\"r2\",\n",
    "  labelCol=\"label\",\n",
    ")\n",
    "\n",
    "crossval = CrossValidator(estimator=lrModel,\n",
    "                        estimatorParamMaps=paramGrid,\n",
    "                        evaluator=evaluator,\n",
    "                        numFolds=2)\n",
    "cvModel = crossval.fit(train_df)"
   ]
  },
  {
   "cell_type": "code",
   "execution_count": 375,
   "metadata": {},
   "outputs": [],
   "source": [
    "get_r2(cvModel.bestModel, test_df )\n",
    "all_models.append({'model':\"Ridge\", \"rmse\": get_rmse(cvModel.bestModel, test_df), \"R2\":get_r2(cvModel.bestModel, test_df)})"
   ]
  },
  {
   "cell_type": "markdown",
   "metadata": {},
   "source": [
    "## Lasso"
   ]
  },
  {
   "cell_type": "code",
   "execution_count": 376,
   "metadata": {},
   "outputs": [],
   "source": [
    "lrm = LinearRegression(maxIter=50)\n",
    "paramGrid = ParamGridBuilder().addGrid(lrm.regParam, np.logspace(-1,-3, 3)).addGrid(lrm.elasticNetParam, [1.0]).build()\n",
    "evaluator = RegressionEvaluator(\n",
    "  metricName=\"r2\",\n",
    "  labelCol=\"label\",\n",
    ")\n",
    "\n",
    "crossval = CrossValidator(estimator=lrModel,\n",
    "                        estimatorParamMaps=paramGrid,\n",
    "                        evaluator=evaluator,\n",
    "                        numFolds=2)\n",
    "cvModel = crossval.fit(train_df)\n",
    "get_r2(cvModel.bestModel, test_df )\n",
    "all_models.append({'model':\"Lasso\", \"rmse\": get_rmse(cvModel.bestModel, test_df), \"R2\":get_r2(cvModel.bestModel, test_df)})"
   ]
  },
  {
   "cell_type": "code",
   "execution_count": null,
   "metadata": {},
   "outputs": [],
   "source": []
  },
  {
   "cell_type": "markdown",
   "metadata": {},
   "source": [
    "## Decision Tree"
   ]
  },
  {
   "cell_type": "code",
   "execution_count": 364,
   "metadata": {},
   "outputs": [
    {
     "name": "stdout",
     "output_type": "stream",
     "text": [
      "0.663796073061433\n",
      "212383.57369376486\n"
     ]
    }
   ],
   "source": [
    "dtm = DecisionTreeRegressor(featuresCol=\"features\",\n",
    "                              labelCol=\"label\",\n",
    "                              maxDepth=13)\n",
    "tlm = dtm.fit(train_df)\n",
    "print(get_r2(tlm, test_df))\n",
    "print(get_rmse(tlm, test_df))\n",
    "all_models.append({'model':\"Decision Tree\", \"rmse\": get_rmse(tlm, test_df), \"R2\":get_r2(tlm, test_df)})"
   ]
  },
  {
   "cell_type": "markdown",
   "metadata": {},
   "source": [
    "## RandomForest"
   ]
  },
  {
   "cell_type": "code",
   "execution_count": 365,
   "metadata": {},
   "outputs": [
    {
     "name": "stdout",
     "output_type": "stream",
     "text": [
      "0.7354180406705659\n",
      "188408.1336222905\n"
     ]
    }
   ],
   "source": [
    "rfm = RandomForestRegressor(featuresCol=\"features\",\n",
    "                              labelCol=\"label\",\n",
    "                              numTrees=100,\n",
    "                              maxDepth=10,\n",
    "                              featureSubsetStrategy='onethird')\n",
    "rflm = rfm.fit(train_df)\n",
    "print(get_r2(rflm, test_df))\n",
    "print(get_rmse(rflm, test_df))\n",
    "all_models.append({'model':\"Random Forest\", \"rmse\": get_rmse(rflm, test_df), \"R2\":get_r2(rflm, test_df)})"
   ]
  },
  {
   "cell_type": "code",
   "execution_count": 381,
   "metadata": {},
   "outputs": [],
   "source": [
    "comp_models = pd.DataFrame(all_models)"
   ]
  },
  {
   "cell_type": "code",
   "execution_count": 382,
   "metadata": {},
   "outputs": [
    {
     "data": {
      "text/html": [
       "<div>\n",
       "<style scoped>\n",
       "    .dataframe tbody tr th:only-of-type {\n",
       "        vertical-align: middle;\n",
       "    }\n",
       "\n",
       "    .dataframe tbody tr th {\n",
       "        vertical-align: top;\n",
       "    }\n",
       "\n",
       "    .dataframe thead th {\n",
       "        text-align: right;\n",
       "    }\n",
       "</style>\n",
       "<table border=\"1\" class=\"dataframe\">\n",
       "  <thead>\n",
       "    <tr style=\"text-align: right;\">\n",
       "      <th></th>\n",
       "      <th>R2</th>\n",
       "      <th>model</th>\n",
       "      <th>rmse</th>\n",
       "    </tr>\n",
       "  </thead>\n",
       "  <tbody>\n",
       "    <tr>\n",
       "      <th>0</th>\n",
       "      <td>0.840114</td>\n",
       "      <td>Linear Regression</td>\n",
       "      <td>146462.072018</td>\n",
       "    </tr>\n",
       "    <tr>\n",
       "      <th>1</th>\n",
       "      <td>0.663796</td>\n",
       "      <td>Decision Tree</td>\n",
       "      <td>212383.573694</td>\n",
       "    </tr>\n",
       "    <tr>\n",
       "      <th>2</th>\n",
       "      <td>0.735418</td>\n",
       "      <td>Random Forest</td>\n",
       "      <td>188408.133622</td>\n",
       "    </tr>\n",
       "    <tr>\n",
       "      <th>3</th>\n",
       "      <td>0.870527</td>\n",
       "      <td>Lasso</td>\n",
       "      <td>131797.976437</td>\n",
       "    </tr>\n",
       "    <tr>\n",
       "      <th>4</th>\n",
       "      <td>0.870527</td>\n",
       "      <td>Ridge</td>\n",
       "      <td>131797.976437</td>\n",
       "    </tr>\n",
       "    <tr>\n",
       "      <th>5</th>\n",
       "      <td>0.840114</td>\n",
       "      <td>Lasso</td>\n",
       "      <td>146462.072018</td>\n",
       "    </tr>\n",
       "  </tbody>\n",
       "</table>\n",
       "</div>"
      ],
      "text/plain": [
       "         R2              model           rmse\n",
       "0  0.840114  Linear Regression  146462.072018\n",
       "1  0.663796      Decision Tree  212383.573694\n",
       "2  0.735418      Random Forest  188408.133622\n",
       "3  0.870527              Lasso  131797.976437\n",
       "4  0.870527              Ridge  131797.976437\n",
       "5  0.840114              Lasso  146462.072018"
      ]
     },
     "execution_count": 382,
     "metadata": {},
     "output_type": "execute_result"
    }
   ],
   "source": [
    "comp_models"
   ]
  },
  {
   "cell_type": "code",
   "execution_count": 385,
   "metadata": {},
   "outputs": [
    {
     "data": {
      "text/html": [
       "<div>\n",
       "<style scoped>\n",
       "    .dataframe tbody tr th:only-of-type {\n",
       "        vertical-align: middle;\n",
       "    }\n",
       "\n",
       "    .dataframe tbody tr th {\n",
       "        vertical-align: top;\n",
       "    }\n",
       "\n",
       "    .dataframe thead th {\n",
       "        text-align: right;\n",
       "    }\n",
       "</style>\n",
       "<table border=\"1\" class=\"dataframe\">\n",
       "  <thead>\n",
       "    <tr style=\"text-align: right;\">\n",
       "      <th></th>\n",
       "      <th>R2</th>\n",
       "      <th>model</th>\n",
       "      <th>rmse</th>\n",
       "    </tr>\n",
       "  </thead>\n",
       "  <tbody>\n",
       "    <tr>\n",
       "      <th>3</th>\n",
       "      <td>0.870527</td>\n",
       "      <td>Lasso</td>\n",
       "      <td>131797.976437</td>\n",
       "    </tr>\n",
       "    <tr>\n",
       "      <th>4</th>\n",
       "      <td>0.870527</td>\n",
       "      <td>Ridge</td>\n",
       "      <td>131797.976437</td>\n",
       "    </tr>\n",
       "  </tbody>\n",
       "</table>\n",
       "</div>"
      ],
      "text/plain": [
       "         R2  model           rmse\n",
       "3  0.870527  Lasso  131797.976437\n",
       "4  0.870527  Ridge  131797.976437"
      ]
     },
     "execution_count": 385,
     "metadata": {},
     "output_type": "execute_result"
    }
   ],
   "source": [
    "comp_models[comp_models.rmse == comp_models.rmse.min()]"
   ]
  },
  {
   "cell_type": "code",
   "execution_count": 386,
   "metadata": {},
   "outputs": [
    {
     "data": {
      "text/html": [
       "<div>\n",
       "<style scoped>\n",
       "    .dataframe tbody tr th:only-of-type {\n",
       "        vertical-align: middle;\n",
       "    }\n",
       "\n",
       "    .dataframe tbody tr th {\n",
       "        vertical-align: top;\n",
       "    }\n",
       "\n",
       "    .dataframe thead th {\n",
       "        text-align: right;\n",
       "    }\n",
       "</style>\n",
       "<table border=\"1\" class=\"dataframe\">\n",
       "  <thead>\n",
       "    <tr style=\"text-align: right;\">\n",
       "      <th></th>\n",
       "      <th>R2</th>\n",
       "      <th>model</th>\n",
       "      <th>rmse</th>\n",
       "    </tr>\n",
       "  </thead>\n",
       "  <tbody>\n",
       "    <tr>\n",
       "      <th>3</th>\n",
       "      <td>0.870527</td>\n",
       "      <td>Lasso</td>\n",
       "      <td>131797.976437</td>\n",
       "    </tr>\n",
       "    <tr>\n",
       "      <th>4</th>\n",
       "      <td>0.870527</td>\n",
       "      <td>Ridge</td>\n",
       "      <td>131797.976437</td>\n",
       "    </tr>\n",
       "  </tbody>\n",
       "</table>\n",
       "</div>"
      ],
      "text/plain": [
       "         R2  model           rmse\n",
       "3  0.870527  Lasso  131797.976437\n",
       "4  0.870527  Ridge  131797.976437"
      ]
     },
     "execution_count": 386,
     "metadata": {},
     "output_type": "execute_result"
    }
   ],
   "source": [
    "comp_models[comp_models.R2 == comp_models.R2.max()]"
   ]
  }
 ],
 "metadata": {
  "kernelspec": {
   "display_name": "Python 3",
   "language": "python",
   "name": "python3"
  },
  "language_info": {
   "codemirror_mode": {
    "name": "ipython",
    "version": 3
   },
   "file_extension": ".py",
   "mimetype": "text/x-python",
   "name": "python",
   "nbconvert_exporter": "python",
   "pygments_lexer": "ipython3",
   "version": "3.6.5"
  }
 },
 "nbformat": 4,
 "nbformat_minor": 2
}
