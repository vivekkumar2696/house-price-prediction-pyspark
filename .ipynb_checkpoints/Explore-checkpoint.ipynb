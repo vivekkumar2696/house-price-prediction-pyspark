{
 "cells": [
  {
   "cell_type": "code",
   "execution_count": 1,
   "metadata": {},
   "outputs": [
    {
     "data": {
      "text/plain": [
       "'/home/vivek/anaconda3/bin/python'"
      ]
     },
     "execution_count": 1,
     "metadata": {},
     "output_type": "execute_result"
    }
   ],
   "source": [
    "import sys\n",
    "sys.executable"
   ]
  },
  {
   "cell_type": "code",
   "execution_count": 257,
   "metadata": {},
   "outputs": [],
   "source": [
    "from pyspark.sql.types import *\n",
    "import plotly.plotly as py\n",
    "from pyspark_dist_explore import hist\n",
    "import pyspark.sql.functions as F\n",
    "from pyspark.sql.functions import isnan, when, count, col, stddev, avg, lit\n",
    "import matplotlib.pyplot as plt\n",
    "import seaborn as sns\n",
    "import numpy as np\n",
    "from pyspark.sql.functions import isnull\n",
    "from pyspark.mllib.stat import Statistics\n",
    "from pyspark.ml.feature import VectorAssembler, OneHotEncoder\n",
    "from pyspark.ml.feature import PolynomialExpansion, StringIndexer, VectorIndexer\n",
    "from pyspark.ml.regression import LinearRegression\n",
    "\n",
    "\n",
    "plt.rcParams['figure.figsize'] = [20, 10]\n"
   ]
  },
  {
   "cell_type": "code",
   "execution_count": 194,
   "metadata": {},
   "outputs": [],
   "source": [
    "input_file = sc.textFile(\"aSaw_Data.csv\")"
   ]
  },
  {
   "cell_type": "code",
   "execution_count": 195,
   "metadata": {
    "scrolled": true
   },
   "outputs": [],
   "source": [
    "def convertToInt(row):\n",
    "    new_row = []\n",
    "    count = 0\n",
    "    for i in row:\n",
    "        if count == 1:\n",
    "            new_row.append(i.replace('\"', \"\").replace(\"'\",''))\n",
    "        else:\n",
    "            new_row.append(float(i.replace('\"', \"\")))\n",
    "        count += 1\n",
    "    return new_row\n",
    "header = input_file.first()\n",
    "rows = input_file.filter(lambda l: l!=header).map(lambda l: tuple(convertToInt(l.split(\",\"))))"
   ]
  },
  {
   "cell_type": "code",
   "execution_count": 196,
   "metadata": {},
   "outputs": [],
   "source": [
    "header_fields = input_file.first().split(\",\")\n",
    "struct_types = []\n",
    "count = 0\n",
    "for i in header_fields:\n",
    "    if count == 1:\n",
    "        struct_types.append(StructField(i, StringType(), True))\n",
    "    else:\n",
    "        struct_types.append(StructField(i, FloatType(), True))\n",
    "    count += 1\n",
    "schema = StructType(struct_types)"
   ]
  },
  {
   "cell_type": "code",
   "execution_count": 197,
   "metadata": {},
   "outputs": [
    {
     "data": {
      "text/plain": [
       "StructType(List(StructField(id,FloatType,true),StructField(date,StringType,true),StructField(price,FloatType,true),StructField(bedrooms,FloatType,true),StructField(bathrooms,FloatType,true),StructField(sqft_living,FloatType,true),StructField(sqft_lot,FloatType,true),StructField(floors,FloatType,true),StructField(waterfront,FloatType,true),StructField(view,FloatType,true),StructField(condition,FloatType,true),StructField(grade,FloatType,true),StructField(sqft_above,FloatType,true),StructField(sqft_basement,FloatType,true),StructField(yr_built,FloatType,true),StructField(yr_renovated,FloatType,true),StructField(zipcode,FloatType,true),StructField(lat,FloatType,true),StructField(long,FloatType,true),StructField(sqft_living15,FloatType,true),StructField(sqft_lot15,FloatType,true)))"
      ]
     },
     "execution_count": 197,
     "metadata": {},
     "output_type": "execute_result"
    }
   ],
   "source": [
    "schema"
   ]
  },
  {
   "cell_type": "code",
   "execution_count": 198,
   "metadata": {},
   "outputs": [],
   "source": [
    "input_df = spark.createDataFrame(rows, schema)"
   ]
  },
  {
   "cell_type": "code",
   "execution_count": 199,
   "metadata": {
    "scrolled": true
   },
   "outputs": [
    {
     "name": "stdout",
     "output_type": "stream",
     "text": [
      "+---------+\n",
      "|    price|\n",
      "+---------+\n",
      "| 221900.0|\n",
      "| 538000.0|\n",
      "| 180000.0|\n",
      "| 604000.0|\n",
      "| 510000.0|\n",
      "|1225000.0|\n",
      "| 257500.0|\n",
      "| 291850.0|\n",
      "| 229500.0|\n",
      "| 323000.0|\n",
      "| 662500.0|\n",
      "| 468000.0|\n",
      "| 310000.0|\n",
      "| 400000.0|\n",
      "| 530000.0|\n",
      "| 650000.0|\n",
      "| 395000.0|\n",
      "| 485000.0|\n",
      "| 189000.0|\n",
      "| 230000.0|\n",
      "+---------+\n",
      "only showing top 20 rows\n",
      "\n"
     ]
    }
   ],
   "source": [
    "input_df.select(\"price\").show()"
   ]
  },
  {
   "cell_type": "code",
   "execution_count": 200,
   "metadata": {
    "scrolled": true
   },
   "outputs": [
    {
     "name": "stdout",
     "output_type": "stream",
     "text": [
      "root\n",
      " |-- id: float (nullable = true)\n",
      " |-- date: string (nullable = true)\n",
      " |-- price: float (nullable = true)\n",
      " |-- bedrooms: float (nullable = true)\n",
      " |-- bathrooms: float (nullable = true)\n",
      " |-- sqft_living: float (nullable = true)\n",
      " |-- sqft_lot: float (nullable = true)\n",
      " |-- floors: float (nullable = true)\n",
      " |-- waterfront: float (nullable = true)\n",
      " |-- view: float (nullable = true)\n",
      " |-- condition: float (nullable = true)\n",
      " |-- grade: float (nullable = true)\n",
      " |-- sqft_above: float (nullable = true)\n",
      " |-- sqft_basement: float (nullable = true)\n",
      " |-- yr_built: float (nullable = true)\n",
      " |-- yr_renovated: float (nullable = true)\n",
      " |-- zipcode: float (nullable = true)\n",
      " |-- lat: float (nullable = true)\n",
      " |-- long: float (nullable = true)\n",
      " |-- sqft_living15: float (nullable = true)\n",
      " |-- sqft_lot15: float (nullable = true)\n",
      "\n"
     ]
    }
   ],
   "source": [
    "input_df.printSchema()"
   ]
  },
  {
   "cell_type": "code",
   "execution_count": 201,
   "metadata": {},
   "outputs": [],
   "source": [
    "price_plot = input_df.groupBy(\"price\").count().orderBy(\"price\")"
   ]
  },
  {
   "cell_type": "code",
   "execution_count": 202,
   "metadata": {},
   "outputs": [
    {
     "data": {
      "text/plain": [
       "[Row(price=75000.0, count=1),\n",
       " Row(price=78000.0, count=1),\n",
       " Row(price=80000.0, count=1),\n",
       " Row(price=81000.0, count=1),\n",
       " Row(price=82000.0, count=1)]"
      ]
     },
     "execution_count": 202,
     "metadata": {},
     "output_type": "execute_result"
    }
   ],
   "source": [
    "price_plot.head(5)"
   ]
  },
  {
   "cell_type": "code",
   "execution_count": 203,
   "metadata": {},
   "outputs": [
    {
     "name": "stdout",
     "output_type": "stream",
     "text": [
      "Row(max(price)=7700000.0)\n",
      "Row(avg(price)=540088.1417665294)\n",
      "Row(min(price)=75000.0)\n"
     ]
    }
   ],
   "source": [
    "print(input_df.select(\"price\").agg({\"price\": \"max\"}).collect()[0])\n",
    "print(input_df.select(\"price\").agg({\"price\": \"mean\"}).collect()[0])\n",
    "print(input_df.select(\"price\").agg({\"price\": \"min\"}).collect()[0])"
   ]
  },
  {
   "cell_type": "code",
   "execution_count": 204,
   "metadata": {
    "scrolled": true
   },
   "outputs": [
    {
     "name": "stdout",
     "output_type": "stream",
     "text": [
      "+---------+----+-----+\n",
      "|condition|view|grade|\n",
      "+---------+----+-----+\n",
      "|      3.0| 0.0|  7.0|\n",
      "|      3.0| 0.0|  7.0|\n",
      "|      3.0| 0.0|  6.0|\n",
      "|      5.0| 0.0|  7.0|\n",
      "|      3.0| 0.0|  8.0|\n",
      "|      3.0| 0.0| 11.0|\n",
      "|      3.0| 0.0|  7.0|\n",
      "|      3.0| 0.0|  7.0|\n",
      "|      3.0| 0.0|  7.0|\n",
      "|      3.0| 0.0|  7.0|\n",
      "|      3.0| 0.0|  8.0|\n",
      "|      4.0| 0.0|  7.0|\n",
      "|      4.0| 0.0|  7.0|\n",
      "|      4.0| 0.0|  7.0|\n",
      "|      3.0| 0.0|  7.0|\n",
      "|      3.0| 3.0|  9.0|\n",
      "|      3.0| 0.0|  7.0|\n",
      "|      4.0| 0.0|  7.0|\n",
      "|      4.0| 0.0|  7.0|\n",
      "|      4.0| 0.0|  7.0|\n",
      "+---------+----+-----+\n",
      "only showing top 20 rows\n",
      "\n"
     ]
    }
   ],
   "source": [
    "input_df.select(['condition','view', 'grade']).show(20)"
   ]
  },
  {
   "cell_type": "code",
   "execution_count": 205,
   "metadata": {},
   "outputs": [
    {
     "name": "stdout",
     "output_type": "stream",
     "text": [
      "+---------+-----------------+\n",
      "|condition|       avg(price)|\n",
      "+---------+-----------------+\n",
      "|      5.0|612418.0893592004|\n",
      "|      2.0|327287.1453488372|\n",
      "|      3.0|542012.5781483857|\n",
      "|      1.0|334431.6666666667|\n",
      "|      4.0|521200.3900334566|\n",
      "+---------+-----------------+\n",
      "\n"
     ]
    }
   ],
   "source": [
    "input_df.groupBy('condition').agg(avg('price')).show()"
   ]
  },
  {
   "cell_type": "markdown",
   "metadata": {},
   "source": [
    "## 1st Ques: Plot a distribution and box plot for the price variable. Find out if there are any outliers and list them."
   ]
  },
  {
   "cell_type": "code",
   "execution_count": 206,
   "metadata": {},
   "outputs": [
    {
     "data": {
      "text/plain": [
       "(array([3.770e+02, 2.644e+03, 4.208e+03, 3.812e+03, 3.038e+03, 2.169e+03,\n",
       "        1.622e+03, 1.151e+03, 7.480e+02, 4.350e+02, 2.500e+02, 2.060e+02,\n",
       "        1.920e+02, 1.490e+02, 9.600e+01, 7.200e+01, 8.300e+01, 5.700e+01,\n",
       "        4.700e+01, 4.600e+01, 2.100e+01, 1.400e+01, 3.000e+01, 1.800e+01,\n",
       "        2.000e+01, 1.900e+01, 9.000e+00, 9.000e+00, 4.000e+00, 1.000e+01,\n",
       "        1.200e+01, 7.000e+00, 6.000e+00, 5.000e+00, 4.000e+00, 1.000e+00,\n",
       "        2.000e+00, 4.000e+00, 1.000e+00, 3.000e+00, 0.000e+00, 1.000e+00,\n",
       "        0.000e+00, 1.000e+00, 0.000e+00, 0.000e+00, 2.000e+00, 0.000e+00,\n",
       "        1.000e+00, 0.000e+00, 0.000e+00, 0.000e+00, 1.000e+00, 0.000e+00,\n",
       "        1.000e+00, 1.000e+00, 0.000e+00, 1.000e+00, 0.000e+00, 0.000e+00,\n",
       "        0.000e+00, 0.000e+00, 0.000e+00, 0.000e+00, 0.000e+00, 0.000e+00,\n",
       "        0.000e+00, 0.000e+00, 0.000e+00, 0.000e+00, 0.000e+00, 1.000e+00,\n",
       "        0.000e+00, 1.000e+00, 0.000e+00, 0.000e+00, 0.000e+00, 0.000e+00,\n",
       "        0.000e+00, 1.000e+00]),\n",
       " array([  75000. ,  170312.5,  265625. ,  360937.5,  456250. ,  551562.5,\n",
       "         646875. ,  742187.5,  837500. ,  932812.5, 1028125. , 1123437.5,\n",
       "        1218750. , 1314062.5, 1409375. , 1504687.5, 1600000. , 1695312.5,\n",
       "        1790625. , 1885937.5, 1981250. , 2076562.5, 2171875. , 2267187.5,\n",
       "        2362500. , 2457812.5, 2553125. , 2648437.5, 2743750. , 2839062.5,\n",
       "        2934375. , 3029687.5, 3125000. , 3220312.5, 3315625. , 3410937.5,\n",
       "        3506250. , 3601562.5, 3696875. , 3792187.5, 3887500. , 3982812.5,\n",
       "        4078125. , 4173437.5, 4268750. , 4364062.5, 4459375. , 4554687.5,\n",
       "        4650000. , 4745312.5, 4840625. , 4935937.5, 5031250. , 5126562.5,\n",
       "        5221875. , 5317187.5, 5412500. , 5507812.5, 5603125. , 5698437.5,\n",
       "        5793750. , 5889062.5, 5984375. , 6079687.5, 6175000. , 6270312.5,\n",
       "        6365625. , 6460937.5, 6556250. , 6651562.5, 6746875. , 6842187.5,\n",
       "        6937500. , 7032812.5, 7128125. , 7223437.5, 7318750. , 7414062.5,\n",
       "        7509375. , 7604687.5, 7700000. ]),\n",
       " <a list of 80 Patch objects>)"
      ]
     },
     "execution_count": 206,
     "metadata": {},
     "output_type": "execute_result"
    },
    {
     "data": {
      "image/png": "[encoded data removed]",
      "text/plain": [
       "<Figure size 1440x720 with 1 Axes>"
      ]
     },
     "metadata": {},
     "output_type": "display_data"
    }
   ],
   "source": [
    "bins, counts = input_df.select('price').rdd.flatMap(lambda x: x).histogram(80)\n",
    "plt.hist(bins[:-1], bins=bins, weights=counts)"
   ]
  },
  {
   "cell_type": "code",
   "execution_count": 207,
   "metadata": {
    "scrolled": true
   },
   "outputs": [
    {
     "data": {
      "text/plain": [
       "<matplotlib.axes._subplots.AxesSubplot at 0x7f474a0a54e0>"
      ]
     },
     "execution_count": 207,
     "metadata": {},
     "output_type": "execute_result"
    },
    {
     "data": {
      "image/png": "[encoded data removed]",
      "text/plain": [
       "<Figure size 1440x720 with 1 Axes>"
      ]
     },
     "metadata": {},
     "output_type": "display_data"
    }
   ],
   "source": [
    "price_df = input_df.select(['price']).toPandas()\n",
    "sns.boxplot(x= price_df['price'])"
   ]
  },
  {
   "cell_type": "markdown",
   "metadata": {},
   "source": [
    "## 2nd Ques: Find out which variables are highly correlated with price."
   ]
  },
  {
   "cell_type": "code",
   "execution_count": 208,
   "metadata": {
    "scrolled": true
   },
   "outputs": [
    {
     "name": "stdout",
     "output_type": "stream",
     "text": [
      "Corelation between  price and  id -0.016762196299423427\n",
      "Corelation between  price and  bedrooms 0.30834959814563817\n",
      "Corelation between  price and  bathrooms 0.5251375054139623\n",
      "Corelation between  price and  sqft_living 0.7020350546118008\n",
      "Corelation between  price and  sqft_lot 0.0896608605871001\n",
      "Corelation between  price and  floors 0.25679388755071825\n",
      "Corelation between  price and  waterfront 0.26636943403060087\n",
      "Corelation between  price and  view 0.397293488294503\n",
      "Corelation between  price and  condition 0.03636178912899724\n",
      "Corelation between  price and  grade 0.6674342560202374\n",
      "Corelation between  price and  sqft_above 0.605567298356079\n",
      "Corelation between  price and  sqft_basement 0.3238160207119829\n",
      "Corelation between  price and  yr_built 0.05401153149479282\n",
      "Corelation between  price and  yr_renovated 0.12643379344089306\n",
      "Corelation between  price and  zipcode -0.05320285429824707\n",
      "Corelation between  price and  lat 0.30700348263774563\n",
      "Corelation between  price and  long 0.0216263782720208\n",
      "Corelation between  price and  sqft_living15 0.5853789035795691\n",
      "Corelation between  price and  sqft_lot15 0.08244715251948599\n"
     ]
    }
   ],
   "source": [
    "for i in input_df.columns:\n",
    "    if i != \"price\" and i != \"date\":\n",
    "        print(\"Corelation between \",\"price and \", i, input_df.stat.corr( 'price', i))"
   ]
  },
  {
   "cell_type": "markdown",
   "metadata": {},
   "source": [
    "## 3rd Ques: Find out which zip codes have the highest median house &#39;price&#39;. Do a bar plot to depict the top 10."
   ]
  },
  {
   "cell_type": "code",
   "execution_count": 209,
   "metadata": {},
   "outputs": [
    {
     "name": "stdout",
     "output_type": "stream",
     "text": [
      "+-------+-------+\n",
      "|zipcode|med_val|\n",
      "+-------+-------+\n",
      "|98199.0|98199.0|\n",
      "|98198.0|98198.0|\n",
      "|98188.0|98188.0|\n",
      "|98178.0|98178.0|\n",
      "|98177.0|98177.0|\n",
      "|98168.0|98168.0|\n",
      "|98166.0|98166.0|\n",
      "|98155.0|98155.0|\n",
      "|98148.0|98148.0|\n",
      "|98146.0|98146.0|\n",
      "+-------+-------+\n",
      "only showing top 10 rows\n",
      "\n",
      "None\n"
     ]
    },
    {
     "data": {
      "text/plain": [
       "<matplotlib.axes._subplots.AxesSubplot at 0x7f4749dbd2b0>"
      ]
     },
     "execution_count": 209,
     "metadata": {},
     "output_type": "execute_result"
    },
    {
     "data": {
      "image/png": "[encoded data removed]",
      "text/plain": [
       "<Figure size 1440x720 with 1 Axes>"
      ]
     },
     "metadata": {},
     "output_type": "display_data"
    }
   ],
   "source": [
    "fifty_percentile = F.expr('percentile_approx(zipcode, 0.5)')\n",
    "# print(input_df.select([\"zipcode\", \"price\"]).groupBy(\"zipcode\").count().orderBy(\"count\", ascending=False).show(5))\n",
    "\n",
    "output_df_3 = input_df.select([\"zipcode\", \"price\"]).groupBy(\"zipcode\").agg(fifty_percentile.alias('med_val')).orderBy(\"med_val\", ascending=False)\n",
    "print(output_df_3.show(10))\n",
    "zip_10_top = output_df_3.toPandas()[0:10]\n",
    "zip_10_top\n",
    "sns.barplot( data = zip_10_top,\n",
    "          x='zipcode',\n",
    "          y='med_val',\n",
    "          order = zip_10_top.zipcode)\n"
   ]
  },
  {
   "cell_type": "code",
   "execution_count": 210,
   "metadata": {},
   "outputs": [
    {
     "name": "stdout",
     "output_type": "stream",
     "text": [
      "+-------+------------+------------------+\n",
      "|zipcode|avg(zipcode)|        avg(price)|\n",
      "+-------+------------+------------------+\n",
      "|98039.0|     98039.0|         2160606.6|\n",
      "|98004.0|     98004.0|1355927.0820189274|\n",
      "|98040.0|     98040.0|1194230.0212765958|\n",
      "|98112.0|     98112.0| 1095499.342007435|\n",
      "|98102.0|     98102.0| 901258.2666666667|\n",
      "|98109.0|     98109.0| 879623.6238532111|\n",
      "|98105.0|     98105.0| 862825.2314410481|\n",
      "|98006.0|     98006.0| 859684.7791164658|\n",
      "|98119.0|     98119.0| 849448.0163043478|\n",
      "|98005.0|     98005.0|        810164.875|\n",
      "+-------+------------+------------------+\n",
      "only showing top 10 rows\n",
      "\n",
      "None\n"
     ]
    },
    {
     "data": {
      "text/plain": [
       "<matplotlib.axes._subplots.AxesSubplot at 0x7f4749f893c8>"
      ]
     },
     "execution_count": 210,
     "metadata": {},
     "output_type": "execute_result"
    },
    {
     "data": {
      "image/png": "[encoded data removed]",
      "text/plain": [
       "<Figure size 1440x720 with 1 Axes>"
      ]
     },
     "metadata": {},
     "output_type": "display_data"
    }
   ],
   "source": [
    "fifty_percentile = F.expr('percentile_approx(zipcode, 0.5)')\n",
    "# print(input_df.select([\"zipcode\", \"price\"]).groupBy(\"zipcode\").count().orderBy(\"count\", ascending=False).show(5))\n",
    "\n",
    "output_df_3_1 = input_df.select([\"zipcode\", \"price\"]).groupBy(\"zipcode\").mean().orderBy(\"avg(price)\", ascending=False)\n",
    "print(output_df_3_1.show(10))\n",
    "zip_10_top_mean = output_df_3_1.toPandas()[0:10]\n",
    "zip_10_top_mean\n",
    "sns.barplot( data = zip_10_top_mean,\n",
    "          x='zipcode',\n",
    "          y='avg(price)',\n",
    "          order = zip_10_top_mean.zipcode)\n"
   ]
  },
  {
   "cell_type": "markdown",
   "metadata": {},
   "source": [
    "## 4th Ques.Find out if there are any missing values in the dataset and your strategy for imputing those."
   ]
  },
  {
   "cell_type": "code",
   "execution_count": 211,
   "metadata": {
    "scrolled": true
   },
   "outputs": [
    {
     "name": "stdout",
     "output_type": "stream",
     "text": [
      "No missing values\n",
      "id 21613\n",
      "date 21613\n",
      "price 21613\n",
      "bedrooms 21613\n",
      "bathrooms 21613\n",
      "sqft_living 21613\n",
      "sqft_lot 21613\n",
      "floors 21613\n",
      "waterfront 21613\n",
      "view 21613\n",
      "condition 21613\n",
      "grade 21613\n",
      "sqft_above 21613\n",
      "sqft_basement 21613\n",
      "yr_built 21613\n",
      "yr_renovated 21613\n",
      "zipcode 21613\n",
      "lat 21613\n",
      "long 21613\n",
      "sqft_living15 21613\n",
      "sqft_lot15 21613\n"
     ]
    },
    {
     "data": {
      "text/plain": [
       "'\\n    There are no missing values.\\n'"
      ]
     },
     "execution_count": 211,
     "metadata": {},
     "output_type": "execute_result"
    }
   ],
   "source": [
    "# print(input_df.select([count(when(isnan(c), c)).alias(c) for c in input_df.columns]).show())\n",
    "\n",
    "if(input_df.na.drop(how = 'any').count() == input_df.count()):\n",
    "    print('No missing values')\n",
    "    \n",
    "for i in input_df.columns:\n",
    "    print(i, input_df.filter(input_df[i].isNotNull()).count())\n",
    "\n",
    "\n",
    "\"\"\"\n",
    "    There are no missing values.\n",
    "\"\"\""
   ]
  },
  {
   "cell_type": "code",
   "execution_count": 212,
   "metadata": {},
   "outputs": [
    {
     "data": {
      "text/plain": [
       "21613"
      ]
     },
     "execution_count": 212,
     "metadata": {},
     "output_type": "execute_result"
    }
   ],
   "source": [
    "input_df.count()"
   ]
  },
  {
   "cell_type": "markdown",
   "metadata": {},
   "source": [
    "## 5th Ques: Do some variables need feature engineering or transformation, if they need to be used to predict prices. Explain what transformations you will apply."
   ]
  },
  {
   "cell_type": "code",
   "execution_count": 213,
   "metadata": {},
   "outputs": [],
   "source": [
    "input_df_backup = input_df"
   ]
  },
  {
   "cell_type": "code",
   "execution_count": 186,
   "metadata": {
    "scrolled": true
   },
   "outputs": [
    {
     "name": "stdout",
     "output_type": "stream",
     "text": [
      "+-----------+-----+\n",
      "|         id|count|\n",
      "+-----------+-----+\n",
      "|9.8287022E9|   26|\n",
      "|8.9290004E9|   17|\n",
      "|7.6257024E9|   15|\n",
      "|9.5211008E9|   14|\n",
      "|9.8342011E9|   14|\n",
      "|3.6260393E9|   13|\n",
      "|8.9648005E9|   13|\n",
      "|6.3000003E9|   13|\n",
      "|9.2682004E9|   13|\n",
      "| 7.234601E9|   13|\n",
      "+-----------+-----+\n",
      "only showing top 10 rows\n",
      "\n",
      "id None 12113\n",
      "+---------------+-----+\n",
      "|           date|count|\n",
      "+---------------+-----+\n",
      "|20140623T000000|  142|\n",
      "|20140626T000000|  131|\n",
      "|20140625T000000|  131|\n",
      "|20140708T000000|  127|\n",
      "|20150427T000000|  126|\n",
      "|20150325T000000|  123|\n",
      "|20140709T000000|  121|\n",
      "|20150414T000000|  121|\n",
      "|20150422T000000|  121|\n",
      "|20150428T000000|  121|\n",
      "+---------------+-----+\n",
      "only showing top 10 rows\n",
      "\n",
      "date None 372\n",
      "+--------+-----+\n",
      "|bedrooms|count|\n",
      "+--------+-----+\n",
      "|     3.0| 9824|\n",
      "|     4.0| 6882|\n",
      "|     2.0| 2760|\n",
      "|     5.0| 1601|\n",
      "|     6.0|  272|\n",
      "|     1.0|  199|\n",
      "|     7.0|   38|\n",
      "|     8.0|   13|\n",
      "|     0.0|   13|\n",
      "|     9.0|    6|\n",
      "+--------+-----+\n",
      "only showing top 10 rows\n",
      "\n",
      "bedrooms None 13\n",
      "+---------+-----+\n",
      "|bathrooms|count|\n",
      "+---------+-----+\n",
      "|      2.5| 5380|\n",
      "|      1.0| 3852|\n",
      "|     1.75| 3048|\n",
      "|     2.25| 2047|\n",
      "|      2.0| 1930|\n",
      "|      1.5| 1446|\n",
      "|     2.75| 1185|\n",
      "|      3.0|  753|\n",
      "|      3.5|  731|\n",
      "|     3.25|  589|\n",
      "+---------+-----+\n",
      "only showing top 10 rows\n",
      "\n",
      "bathrooms None 30\n",
      "+-----------+-----+\n",
      "|sqft_living|count|\n",
      "+-----------+-----+\n",
      "|     1300.0|  138|\n",
      "|     1400.0|  135|\n",
      "|     1440.0|  133|\n",
      "|     1800.0|  129|\n",
      "|     1010.0|  129|\n",
      "|     1660.0|  129|\n",
      "|     1820.0|  128|\n",
      "|     1480.0|  125|\n",
      "|     1720.0|  125|\n",
      "|     1540.0|  124|\n",
      "+-----------+-----+\n",
      "only showing top 10 rows\n",
      "\n",
      "sqft_living None 1038\n",
      "+--------+-----+\n",
      "|sqft_lot|count|\n",
      "+--------+-----+\n",
      "|  5000.0|  358|\n",
      "|  6000.0|  290|\n",
      "|  4000.0|  251|\n",
      "|  7200.0|  220|\n",
      "|  4800.0|  120|\n",
      "|  7500.0|  119|\n",
      "|  4500.0|  114|\n",
      "|  8400.0|  111|\n",
      "|  9600.0|  109|\n",
      "|  3600.0|  103|\n",
      "+--------+-----+\n",
      "only showing top 10 rows\n",
      "\n",
      "sqft_lot None 9782\n",
      "+------+-----+\n",
      "|floors|count|\n",
      "+------+-----+\n",
      "|   1.0|10680|\n",
      "|   2.0| 8241|\n",
      "|   1.5| 1910|\n",
      "|   3.0|  613|\n",
      "|   2.5|  161|\n",
      "|   3.5|    8|\n",
      "+------+-----+\n",
      "\n",
      "floors None 6\n",
      "+----------+-----+\n",
      "|waterfront|count|\n",
      "+----------+-----+\n",
      "|       0.0|21450|\n",
      "|       1.0|  163|\n",
      "+----------+-----+\n",
      "\n",
      "waterfront None 2\n",
      "+----+-----+\n",
      "|view|count|\n",
      "+----+-----+\n",
      "| 0.0|19489|\n",
      "| 2.0|  963|\n",
      "| 3.0|  510|\n",
      "| 1.0|  332|\n",
      "| 4.0|  319|\n",
      "+----+-----+\n",
      "\n",
      "view None 5\n",
      "+---------+-----+\n",
      "|condition|count|\n",
      "+---------+-----+\n",
      "|      3.0|14031|\n",
      "|      4.0| 5679|\n",
      "|      5.0| 1701|\n",
      "|      2.0|  172|\n",
      "|      1.0|   30|\n",
      "+---------+-----+\n",
      "\n",
      "condition None 5\n",
      "+-----+-----+\n",
      "|grade|count|\n",
      "+-----+-----+\n",
      "|  7.0| 8981|\n",
      "|  8.0| 6068|\n",
      "|  9.0| 2615|\n",
      "|  6.0| 2038|\n",
      "| 10.0| 1134|\n",
      "| 11.0|  399|\n",
      "|  5.0|  242|\n",
      "| 12.0|   90|\n",
      "|  4.0|   29|\n",
      "| 13.0|   13|\n",
      "+-----+-----+\n",
      "only showing top 10 rows\n",
      "\n",
      "grade None 12\n",
      "+----------+-----+\n",
      "|sqft_above|count|\n",
      "+----------+-----+\n",
      "|    1300.0|  212|\n",
      "|    1010.0|  210|\n",
      "|    1200.0|  206|\n",
      "|    1220.0|  192|\n",
      "|    1140.0|  184|\n",
      "|    1400.0|  180|\n",
      "|    1060.0|  178|\n",
      "|    1180.0|  177|\n",
      "|    1340.0|  176|\n",
      "|    1250.0|  174|\n",
      "+----------+-----+\n",
      "only showing top 10 rows\n",
      "\n",
      "sqft_above None 946\n",
      "+-------------+-----+\n",
      "|sqft_basement|count|\n",
      "+-------------+-----+\n",
      "|          0.0|13126|\n",
      "|        600.0|  221|\n",
      "|        700.0|  218|\n",
      "|        500.0|  214|\n",
      "|        800.0|  206|\n",
      "|        400.0|  184|\n",
      "|       1000.0|  149|\n",
      "|        900.0|  144|\n",
      "|        300.0|  142|\n",
      "|        200.0|  108|\n",
      "+-------------+-----+\n",
      "only showing top 10 rows\n",
      "\n",
      "sqft_basement None 306\n",
      "+--------+-----+\n",
      "|yr_built|count|\n",
      "+--------+-----+\n",
      "|  2014.0|  559|\n",
      "|  2006.0|  454|\n",
      "|  2005.0|  450|\n",
      "|  2004.0|  433|\n",
      "|  2003.0|  422|\n",
      "|  1977.0|  417|\n",
      "|  2007.0|  417|\n",
      "|  1978.0|  387|\n",
      "|  1968.0|  381|\n",
      "|  2008.0|  367|\n",
      "+--------+-----+\n",
      "only showing top 10 rows\n",
      "\n",
      "yr_built None 116\n",
      "+------------+-----+\n",
      "|yr_renovated|count|\n",
      "+------------+-----+\n",
      "|         0.0|20699|\n",
      "|      2014.0|   91|\n",
      "|      2013.0|   37|\n",
      "|      2003.0|   36|\n",
      "|      2000.0|   35|\n",
      "|      2007.0|   35|\n",
      "|      2005.0|   35|\n",
      "|      2004.0|   26|\n",
      "|      1990.0|   25|\n",
      "|      2006.0|   24|\n",
      "+------------+-----+\n",
      "only showing top 10 rows\n",
      "\n",
      "yr_renovated None 70\n",
      "+-------+-----+\n",
      "|zipcode|count|\n",
      "+-------+-----+\n",
      "|98103.0|  602|\n",
      "|98038.0|  590|\n",
      "|98115.0|  583|\n",
      "|98052.0|  574|\n",
      "|98117.0|  553|\n",
      "|98042.0|  548|\n",
      "|98034.0|  545|\n",
      "|98118.0|  508|\n",
      "|98023.0|  499|\n",
      "|98006.0|  498|\n",
      "+-------+-----+\n",
      "only showing top 10 rows\n",
      "\n",
      "zipcode None 70\n",
      "+-------+-----+\n",
      "|    lat|count|\n",
      "+-------+-----+\n",
      "|47.6846|   17|\n",
      "|47.6624|   17|\n",
      "|47.5491|   17|\n",
      "|47.5322|   17|\n",
      "|47.6711|   16|\n",
      "|47.6955|   16|\n",
      "|47.6886|   16|\n",
      "|47.6647|   15|\n",
      "|47.5402|   15|\n",
      "| 47.686|   15|\n",
      "+-------+-----+\n",
      "only showing top 10 rows\n",
      "\n",
      "lat None 5034\n",
      "+--------+-----+\n",
      "|    long|count|\n",
      "+--------+-----+\n",
      "| -122.29|  116|\n",
      "|  -122.3|  111|\n",
      "|-122.362|  104|\n",
      "|-122.291|  100|\n",
      "|-122.363|   99|\n",
      "|-122.372|   99|\n",
      "|-122.288|   98|\n",
      "|-122.357|   96|\n",
      "|-122.284|   95|\n",
      "|-122.172|   94|\n",
      "+--------+-----+\n",
      "only showing top 10 rows\n",
      "\n",
      "long None 752\n",
      "+-------------+-----+\n",
      "|sqft_living15|count|\n",
      "+-------------+-----+\n",
      "|       1540.0|  197|\n",
      "|       1440.0|  195|\n",
      "|       1560.0|  192|\n",
      "|       1500.0|  181|\n",
      "|       1460.0|  169|\n",
      "|       1580.0|  167|\n",
      "|       1610.0|  166|\n",
      "|       1720.0|  166|\n",
      "|       1800.0|  166|\n",
      "|       1620.0|  165|\n",
      "+-------------+-----+\n",
      "only showing top 10 rows\n",
      "\n",
      "sqft_living15 None 777\n",
      "+----------+-----+\n",
      "|sqft_lot15|count|\n",
      "+----------+-----+\n",
      "|    5000.0|  427|\n",
      "|    4000.0|  357|\n",
      "|    6000.0|  289|\n",
      "|    7200.0|  211|\n",
      "|    4800.0|  145|\n",
      "|    7500.0|  142|\n",
      "|    8400.0|  116|\n",
      "|    3600.0|  111|\n",
      "|    4500.0|  111|\n",
      "|    5100.0|  109|\n",
      "+----------+-----+\n",
      "only showing top 10 rows\n",
      "\n",
      "sqft_lot15 None 8689\n",
      "+-------------------+-----+\n",
      "|diffCurrentAndBuild|count|\n",
      "+-------------------+-----+\n",
      "|                2.0|  559|\n",
      "|               10.0|  454|\n",
      "|               11.0|  450|\n",
      "|               12.0|  433|\n",
      "|               13.0|  422|\n",
      "|                9.0|  417|\n",
      "|               39.0|  417|\n",
      "|               38.0|  387|\n",
      "|               48.0|  381|\n",
      "|                8.0|  367|\n",
      "+-------------------+-----+\n",
      "only showing top 10 rows\n",
      "\n",
      "diffCurrentAndBuild None 116\n",
      "+-----------------------+-----+\n",
      "|diffCurrentAndRenovated|count|\n",
      "+-----------------------+-----+\n",
      "|                 2016.0|20699|\n",
      "|                    2.0|   91|\n",
      "|                    3.0|   37|\n",
      "|                   13.0|   36|\n",
      "|                    9.0|   35|\n",
      "|                   16.0|   35|\n",
      "|                   11.0|   35|\n",
      "|                   12.0|   26|\n",
      "|                   26.0|   25|\n",
      "|                   10.0|   24|\n",
      "+-----------------------+-----+\n",
      "only showing top 10 rows\n",
      "\n",
      "diffCurrentAndRenovated None 70\n",
      "+------------+-----+\n",
      "|zipcodeIndex|count|\n",
      "+------------+-----+\n",
      "|         0.0|  602|\n",
      "|         1.0|  590|\n",
      "|         2.0|  583|\n",
      "|         3.0|  574|\n",
      "|         4.0|  553|\n",
      "|         5.0|  548|\n",
      "|         6.0|  545|\n",
      "|         7.0|  508|\n",
      "|         8.0|  499|\n",
      "|         9.0|  498|\n",
      "+------------+-----+\n",
      "only showing top 10 rows\n",
      "\n",
      "zipcodeIndex None 70\n",
      "+--------------+-----+\n",
      "|    zipcodeVec|count|\n",
      "+--------------+-----+\n",
      "|(69,[0],[1.0])|  602|\n",
      "|(69,[1],[1.0])|  590|\n",
      "|(69,[2],[1.0])|  583|\n",
      "|(69,[3],[1.0])|  574|\n",
      "|(69,[4],[1.0])|  553|\n",
      "|(69,[5],[1.0])|  548|\n",
      "|(69,[6],[1.0])|  545|\n",
      "|(69,[7],[1.0])|  508|\n",
      "|(69,[8],[1.0])|  499|\n",
      "|(69,[9],[1.0])|  498|\n",
      "+--------------+-----+\n",
      "only showing top 10 rows\n",
      "\n",
      "zipcodeVec None 70\n",
      "+---------------+-----+\n",
      "|waterfrontIndex|count|\n",
      "+---------------+-----+\n",
      "|            0.0|21450|\n",
      "|            1.0|  163|\n",
      "+---------------+-----+\n",
      "\n",
      "waterfrontIndex None 2\n",
      "+-------------+-----+\n",
      "|waterfrontVec|count|\n",
      "+-------------+-----+\n",
      "|(1,[0],[1.0])|21450|\n",
      "|    (1,[],[])|  163|\n",
      "+-------------+-----+\n",
      "\n",
      "waterfrontVec None 2\n",
      "+----------+-----+\n",
      "|gradeIndex|count|\n",
      "+----------+-----+\n",
      "|       0.0| 8981|\n",
      "|       1.0| 6068|\n",
      "|       2.0| 2615|\n",
      "|       3.0| 2038|\n",
      "|       4.0| 1134|\n",
      "|       5.0|  399|\n",
      "|       6.0|  242|\n",
      "|       7.0|   90|\n",
      "|       8.0|   29|\n",
      "|       9.0|   13|\n",
      "+----------+-----+\n",
      "only showing top 10 rows\n",
      "\n",
      "gradeIndex None 12\n",
      "+--------------+-----+\n",
      "|      gradeVec|count|\n",
      "+--------------+-----+\n",
      "|(11,[0],[1.0])| 8981|\n",
      "|(11,[1],[1.0])| 6068|\n",
      "|(11,[2],[1.0])| 2615|\n",
      "|(11,[3],[1.0])| 2038|\n",
      "|(11,[4],[1.0])| 1134|\n",
      "|(11,[5],[1.0])|  399|\n",
      "|(11,[6],[1.0])|  242|\n",
      "|(11,[7],[1.0])|   90|\n",
      "|(11,[8],[1.0])|   29|\n",
      "|(11,[9],[1.0])|   13|\n",
      "+--------------+-----+\n",
      "only showing top 10 rows\n",
      "\n",
      "gradeVec None 12\n",
      "+--------------+-----+\n",
      "|conditionIndex|count|\n",
      "+--------------+-----+\n",
      "|           0.0|14031|\n",
      "|           1.0| 5679|\n",
      "|           2.0| 1701|\n",
      "|           3.0|  172|\n",
      "|           4.0|   30|\n",
      "+--------------+-----+\n",
      "\n"
     ]
    },
    {
     "name": "stdout",
     "output_type": "stream",
     "text": [
      "conditionIndex None 5\n",
      "+-------------+-----+\n",
      "| conditionVec|count|\n",
      "+-------------+-----+\n",
      "|(4,[0],[1.0])|14031|\n",
      "|(4,[1],[1.0])| 5679|\n",
      "|(4,[2],[1.0])| 1701|\n",
      "|(4,[3],[1.0])|  172|\n",
      "|    (4,[],[])|   30|\n",
      "+-------------+-----+\n",
      "\n",
      "conditionVec None 5\n",
      "+---------+-----+\n",
      "|viewIndex|count|\n",
      "+---------+-----+\n",
      "|      0.0|19489|\n",
      "|      1.0|  963|\n",
      "|      2.0|  510|\n",
      "|      3.0|  332|\n",
      "|      4.0|  319|\n",
      "+---------+-----+\n",
      "\n",
      "viewIndex None 5\n",
      "+-------------+-----+\n",
      "|      viewVec|count|\n",
      "+-------------+-----+\n",
      "|(4,[0],[1.0])|19489|\n",
      "|(4,[1],[1.0])|  963|\n",
      "|(4,[2],[1.0])|  510|\n",
      "|(4,[3],[1.0])|  332|\n",
      "|    (4,[],[])|  319|\n",
      "+-------------+-----+\n",
      "\n",
      "viewVec None 5\n"
     ]
    }
   ],
   "source": [
    "for i in input_df.columns:\n",
    "    if i != \"price\":\n",
    "        temp_df = input_df.select([i, \"price\"]).groupBy(i).count().orderBy(\"count\", ascending=False)\n",
    "        print(i, temp_df.show(10), temp_df.count())"
   ]
  },
  {
   "cell_type": "code",
   "execution_count": 237,
   "metadata": {},
   "outputs": [],
   "source": [
    "input_df = input_df_backup"
   ]
  },
  {
   "cell_type": "code",
   "execution_count": 242,
   "metadata": {},
   "outputs": [],
   "source": [
    "input_df = input_df.withColumn(\"diffCurrentAndBuild\", lit(2016) - input_df.yr_built)\n",
    "input_df = input_df.withColumn(\"diffCurrentAndRenovated\", lit(2016) - input_df.yr_renovated)\n"
   ]
  },
  {
   "cell_type": "code",
   "execution_count": 243,
   "metadata": {},
   "outputs": [],
   "source": [
    "cont_values = ['sqft_living', 'bedrooms', 'bathrooms', 'floors',\n",
    "                     'diffCurrentAndBuild', 'sqft_above',\n",
    "                    'sqft_living15', 'sqft_lot15', 'diffCurrentAndRenovated']\n",
    "\n",
    "category_values = ['zipcode', 'waterfront',\n",
    "                      'grade', 'condition',\n",
    "                      'view']"
   ]
  },
  {
   "cell_type": "code",
   "execution_count": 244,
   "metadata": {
    "scrolled": true
   },
   "outputs": [
    {
     "name": "stdout",
     "output_type": "stream",
     "text": [
      "+------------+---------------+---------+--------+---------+-----------+--------+------+----------+----+---------+-----+----------+-------------+--------+------------+-------+-------+--------+-------------+----------+-------------------+-----------------------+\n",
      "|          id|           date|    price|bedrooms|bathrooms|sqft_living|sqft_lot|floors|waterfront|view|condition|grade|sqft_above|sqft_basement|yr_built|yr_renovated|zipcode|    lat|    long|sqft_living15|sqft_lot15|diffCurrentAndBuild|diffCurrentAndRenovated|\n",
      "+------------+---------------+---------+--------+---------+-----------+--------+------+----------+----+---------+-----+----------+-------------+--------+------------+-------+-------+--------+-------------+----------+-------------------+-----------------------+\n",
      "| 7.1293005E9|20141013T000000| 221900.0|     3.0|      1.0|     1180.0|  5650.0|   1.0|       0.0| 0.0|      3.0|  7.0|    1180.0|          0.0|  1955.0|         0.0|98178.0|47.5112|-122.257|       1340.0|    5650.0|               61.0|                 2016.0|\n",
      "|    6.4141E9|20141209T000000| 538000.0|     3.0|     2.25|     2570.0|  7242.0|   2.0|       0.0| 0.0|      3.0|  7.0|    2170.0|        400.0|  1951.0|      1991.0|98125.0| 47.721|-122.319|       1690.0|    7639.0|               65.0|                   25.0|\n",
      "| 5.6315003E9|20150225T000000| 180000.0|     2.0|      1.0|      770.0| 10000.0|   1.0|       0.0| 0.0|      3.0|  6.0|     770.0|          0.0|  1933.0|         0.0|98028.0|47.7379|-122.233|       2720.0|    8062.0|               83.0|                 2016.0|\n",
      "|2.48720077E9|20141209T000000| 604000.0|     4.0|      3.0|     1960.0|  5000.0|   1.0|       0.0| 0.0|      5.0|  7.0|    1050.0|        910.0|  1965.0|         0.0|98136.0|47.5208|-122.393|       1360.0|    5000.0|               51.0|                 2016.0|\n",
      "|1.95440051E9|20150218T000000| 510000.0|     3.0|      2.0|     1680.0|  8080.0|   1.0|       0.0| 0.0|      3.0|  8.0|    1680.0|          0.0|  1987.0|         0.0|98074.0|47.6168|-122.045|       1800.0|    7503.0|               29.0|                 2016.0|\n",
      "| 7.2375501E9|20140512T000000|1225000.0|     4.0|      4.5|     5420.0|101930.0|   1.0|       0.0| 0.0|      3.0| 11.0|    3890.0|       1530.0|  2001.0|         0.0|98053.0|47.6561|-122.005|       4760.0|  101930.0|               15.0|                 2016.0|\n",
      "|1.32140006E9|20140627T000000| 257500.0|     3.0|     2.25|     1715.0|  6819.0|   2.0|       0.0| 0.0|      3.0|  7.0|    1715.0|          0.0|  1995.0|         0.0|98003.0|47.3097|-122.327|       2238.0|    6819.0|               21.0|                 2016.0|\n",
      "|2.00800026E9|20150115T000000| 291850.0|     3.0|      1.5|     1060.0|  9711.0|   1.0|       0.0| 0.0|      3.0|  7.0|    1060.0|          0.0|  1963.0|         0.0|98198.0|47.4095|-122.315|       1650.0|    9711.0|               53.0|                 2016.0|\n",
      "|2.41460019E9|20150415T000000| 229500.0|     3.0|      1.0|     1780.0|  7470.0|   1.0|       0.0| 0.0|      3.0|  7.0|    1050.0|        730.0|  1960.0|         0.0|98146.0|47.5123|-122.337|       1780.0|    8113.0|               56.0|                 2016.0|\n",
      "|3.79350016E9|20150312T000000| 323000.0|     3.0|      2.5|     1890.0|  6560.0|   2.0|       0.0| 0.0|      3.0|  7.0|    1890.0|          0.0|  2003.0|         0.0|98038.0|47.3684|-122.031|       2390.0|    7570.0|               13.0|                 2016.0|\n",
      "|1.73680051E9|20150403T000000| 662500.0|     3.0|      2.5|     3560.0|  9796.0|   1.0|       0.0| 0.0|      3.0|  8.0|    1860.0|       1700.0|  1965.0|         0.0|98007.0|47.6007|-122.145|       2210.0|    8925.0|               51.0|                 2016.0|\n",
      "| 9.2129004E9|20140527T000000| 468000.0|     2.0|      1.0|     1160.0|  6000.0|   1.0|       0.0| 0.0|      4.0|  7.0|     860.0|        300.0|  1942.0|         0.0|98115.0|  47.69|-122.292|       1330.0|    6000.0|               74.0|                 2016.0|\n",
      "| 1.1410152E8|20140528T000000| 310000.0|     3.0|      1.0|     1430.0| 19901.0|   1.5|       0.0| 0.0|      4.0|  7.0|    1430.0|          0.0|  1927.0|         0.0|98028.0|47.7558|-122.229|       1780.0|   12697.0|               89.0|                 2016.0|\n",
      "| 6.0546499E9|20141007T000000| 400000.0|     3.0|     1.75|     1370.0|  9680.0|   1.0|       0.0| 0.0|      4.0|  7.0|    1370.0|          0.0|  1977.0|         0.0|98074.0|47.6127|-122.045|       1370.0|   10208.0|               39.0|                 2016.0|\n",
      "|1.17500058E9|20150312T000000| 530000.0|     5.0|      2.0|     1810.0|  4850.0|   1.5|       0.0| 0.0|      3.0|  7.0|    1810.0|          0.0|  1900.0|         0.0|98107.0|  47.67|-122.394|       1360.0|    4850.0|              116.0|                 2016.0|\n",
      "| 9.2973005E9|20150124T000000| 650000.0|     4.0|      3.0|     2950.0|  5000.0|   2.0|       0.0| 3.0|      3.0|  9.0|    1980.0|        970.0|  1979.0|         0.0|98126.0|47.5714|-122.375|       2140.0|    4000.0|               37.0|                 2016.0|\n",
      "|1.87550003E9|20140731T000000| 395000.0|     3.0|      2.0|     1890.0| 14040.0|   2.0|       0.0| 0.0|      3.0|  7.0|    1890.0|          0.0|  1994.0|         0.0|98019.0|47.7277|-121.962|       1890.0|   14018.0|               22.0|                 2016.0|\n",
      "| 6.8652001E9|20140529T000000| 485000.0|     4.0|      1.0|     1600.0|  4300.0|   1.5|       0.0| 0.0|      4.0|  7.0|    1600.0|          0.0|  1916.0|         0.0|98103.0|47.6648|-122.343|       1610.0|    4300.0|              100.0|                 2016.0|\n",
      "| 1.6000397E7|20141205T000000| 189000.0|     2.0|      1.0|     1200.0|  9850.0|   1.0|       0.0| 0.0|      4.0|  7.0|    1200.0|          0.0|  1921.0|         0.0|98002.0|47.3089| -122.21|       1060.0|    5095.0|               95.0|                 2016.0|\n",
      "| 7.9832003E9|20150424T000000| 230000.0|     3.0|      1.0|     1250.0|  9774.0|   1.0|       0.0| 0.0|      4.0|  7.0|    1250.0|          0.0|  1969.0|         0.0|98003.0|47.3343|-122.306|       1280.0|    8850.0|               47.0|                 2016.0|\n",
      "+------------+---------------+---------+--------+---------+-----------+--------+------+----------+----+---------+-----+----------+-------------+--------+------------+-------+-------+--------+-------------+----------+-------------------+-----------------------+\n",
      "only showing top 20 rows\n",
      "\n"
     ]
    }
   ],
   "source": [
    "input_df.show()"
   ]
  },
  {
   "cell_type": "code",
   "execution_count": 245,
   "metadata": {},
   "outputs": [],
   "source": [
    "def one_hot_encode(df, col):\n",
    "    indexer = StringIndexer().setInputCol(col).setOutputCol(col+\"Index\").fit(df)\n",
    "    indexed = indexer.transform(df)\n",
    "\n",
    "    encoder = OneHotEncoder(dropLast=True).setInputCol(col+\"Index\").setOutputCol(col+\"Vec\")\n",
    "\n",
    "    encoded = encoder.transform(indexed)\n",
    "    encoded.show()\n",
    "    return encoded"
   ]
  },
  {
   "cell_type": "code",
   "execution_count": 246,
   "metadata": {},
   "outputs": [
    {
     "name": "stdout",
     "output_type": "stream",
     "text": [
      "+------------+---------------+---------+--------+---------+-----------+--------+------+----------+----+---------+-----+----------+-------------+--------+------------+-------+-------+--------+-------------+----------+-------------------+-----------------------+------------+---------------+\n",
      "|          id|           date|    price|bedrooms|bathrooms|sqft_living|sqft_lot|floors|waterfront|view|condition|grade|sqft_above|sqft_basement|yr_built|yr_renovated|zipcode|    lat|    long|sqft_living15|sqft_lot15|diffCurrentAndBuild|diffCurrentAndRenovated|zipcodeIndex|     zipcodeVec|\n",
      "+------------+---------------+---------+--------+---------+-----------+--------+------+----------+----+---------+-----+----------+-------------+--------+------------+-------+-------+--------+-------------+----------+-------------------+-----------------------+------------+---------------+\n",
      "| 7.1293005E9|20141013T000000| 221900.0|     3.0|      1.0|     1180.0|  5650.0|   1.0|       0.0| 0.0|      3.0|  7.0|    1180.0|          0.0|  1955.0|         0.0|98178.0|47.5112|-122.257|       1340.0|    5650.0|               61.0|                 2016.0|        45.0|(69,[45],[1.0])|\n",
      "|    6.4141E9|20141209T000000| 538000.0|     3.0|     2.25|     2570.0|  7242.0|   2.0|       0.0| 0.0|      3.0|  7.0|    2170.0|        400.0|  1951.0|      1991.0|98125.0| 47.721|-122.319|       1690.0|    7639.0|               65.0|                   25.0|        17.0|(69,[17],[1.0])|\n",
      "| 5.6315003E9|20150225T000000| 180000.0|     2.0|      1.0|      770.0| 10000.0|   1.0|       0.0| 0.0|      3.0|  6.0|     770.0|          0.0|  1933.0|         0.0|98028.0|47.7379|-122.233|       2720.0|    8062.0|               83.0|                 2016.0|        34.0|(69,[34],[1.0])|\n",
      "|2.48720077E9|20141209T000000| 604000.0|     4.0|      3.0|     1960.0|  5000.0|   1.0|       0.0| 0.0|      5.0|  7.0|    1050.0|        910.0|  1965.0|         0.0|98136.0|47.5208|-122.393|       1360.0|    5000.0|               51.0|                 2016.0|        44.0|(69,[44],[1.0])|\n",
      "|1.95440051E9|20150218T000000| 510000.0|     3.0|      2.0|     1680.0|  8080.0|   1.0|       0.0| 0.0|      3.0|  8.0|    1680.0|          0.0|  1987.0|         0.0|98074.0|47.6168|-122.045|       1800.0|    7503.0|               29.0|                 2016.0|        14.0|(69,[14],[1.0])|\n",
      "| 7.2375501E9|20140512T000000|1225000.0|     4.0|      4.5|     5420.0|101930.0|   1.0|       0.0| 0.0|      3.0| 11.0|    3890.0|       1530.0|  2001.0|         0.0|98053.0|47.6561|-122.005|       4760.0|  101930.0|               15.0|                 2016.0|        19.0|(69,[19],[1.0])|\n",
      "|1.32140006E9|20140627T000000| 257500.0|     3.0|     2.25|     1715.0|  6819.0|   2.0|       0.0| 0.0|      3.0|  7.0|    1715.0|          0.0|  1995.0|         0.0|98003.0|47.3097|-122.327|       2238.0|    6819.0|               21.0|                 2016.0|        37.0|(69,[37],[1.0])|\n",
      "|2.00800026E9|20150115T000000| 291850.0|     3.0|      1.5|     1060.0|  9711.0|   1.0|       0.0| 0.0|      3.0|  7.0|    1060.0|          0.0|  1963.0|         0.0|98198.0|47.4095|-122.315|       1650.0|    9711.0|               53.0|                 2016.0|        36.0|(69,[36],[1.0])|\n",
      "|2.41460019E9|20150415T000000| 229500.0|     3.0|      1.0|     1780.0|  7470.0|   1.0|       0.0| 0.0|      3.0|  7.0|    1050.0|        730.0|  1960.0|         0.0|98146.0|47.5123|-122.337|       1780.0|    8113.0|               56.0|                 2016.0|        32.0|(69,[32],[1.0])|\n",
      "|3.79350016E9|20150312T000000| 323000.0|     3.0|      2.5|     1890.0|  6560.0|   2.0|       0.0| 0.0|      3.0|  7.0|    1890.0|          0.0|  2003.0|         0.0|98038.0|47.3684|-122.031|       2390.0|    7570.0|               13.0|                 2016.0|         1.0| (69,[1],[1.0])|\n",
      "|1.73680051E9|20150403T000000| 662500.0|     3.0|      2.5|     3560.0|  9796.0|   1.0|       0.0| 0.0|      3.0|  8.0|    1860.0|       1700.0|  1965.0|         0.0|98007.0|47.6007|-122.145|       2210.0|    8925.0|               51.0|                 2016.0|        59.0|(69,[59],[1.0])|\n",
      "| 9.2129004E9|20140527T000000| 468000.0|     2.0|      1.0|     1160.0|  6000.0|   1.0|       0.0| 0.0|      4.0|  7.0|     860.0|        300.0|  1942.0|         0.0|98115.0|  47.69|-122.292|       1330.0|    6000.0|               74.0|                 2016.0|         2.0| (69,[2],[1.0])|\n",
      "| 1.1410152E8|20140528T000000| 310000.0|     3.0|      1.0|     1430.0| 19901.0|   1.5|       0.0| 0.0|      4.0|  7.0|    1430.0|          0.0|  1927.0|         0.0|98028.0|47.7558|-122.229|       1780.0|   12697.0|               89.0|                 2016.0|        34.0|(69,[34],[1.0])|\n",
      "| 6.0546499E9|20141007T000000| 400000.0|     3.0|     1.75|     1370.0|  9680.0|   1.0|       0.0| 0.0|      4.0|  7.0|    1370.0|          0.0|  1977.0|         0.0|98074.0|47.6127|-122.045|       1370.0|   10208.0|               39.0|                 2016.0|        14.0|(69,[14],[1.0])|\n",
      "|1.17500058E9|20150312T000000| 530000.0|     5.0|      2.0|     1810.0|  4850.0|   1.5|       0.0| 0.0|      3.0|  7.0|    1810.0|          0.0|  1900.0|         0.0|98107.0|  47.67|-122.394|       1360.0|    4850.0|              116.0|                 2016.0|        43.0|(69,[43],[1.0])|\n",
      "| 9.2973005E9|20150124T000000| 650000.0|     4.0|      3.0|     2950.0|  5000.0|   2.0|       0.0| 3.0|      3.0|  9.0|    1980.0|        970.0|  1979.0|         0.0|98126.0|47.5714|-122.375|       2140.0|    4000.0|               37.0|                 2016.0|        22.0|(69,[22],[1.0])|\n",
      "|1.87550003E9|20140731T000000| 395000.0|     3.0|      2.0|     1890.0| 14040.0|   2.0|       0.0| 0.0|      3.0|  7.0|    1890.0|          0.0|  1994.0|         0.0|98019.0|47.7277|-121.962|       1890.0|   14018.0|               22.0|                 2016.0|        55.0|(69,[55],[1.0])|\n",
      "| 6.8652001E9|20140529T000000| 485000.0|     4.0|      1.0|     1600.0|  4300.0|   1.5|       0.0| 0.0|      4.0|  7.0|    1600.0|          0.0|  1916.0|         0.0|98103.0|47.6648|-122.343|       1610.0|    4300.0|              100.0|                 2016.0|         0.0| (69,[0],[1.0])|\n",
      "| 1.6000397E7|20141205T000000| 189000.0|     2.0|      1.0|     1200.0|  9850.0|   1.0|       0.0| 0.0|      4.0|  7.0|    1200.0|          0.0|  1921.0|         0.0|98002.0|47.3089| -122.21|       1060.0|    5095.0|               95.0|                 2016.0|        52.0|(69,[52],[1.0])|\n",
      "| 7.9832003E9|20150424T000000| 230000.0|     3.0|      1.0|     1250.0|  9774.0|   1.0|       0.0| 0.0|      4.0|  7.0|    1250.0|          0.0|  1969.0|         0.0|98003.0|47.3343|-122.306|       1280.0|    8850.0|               47.0|                 2016.0|        37.0|(69,[37],[1.0])|\n",
      "+------------+---------------+---------+--------+---------+-----------+--------+------+----------+----+---------+-----+----------+-------------+--------+------------+-------+-------+--------+-------------+----------+-------------------+-----------------------+------------+---------------+\n",
      "only showing top 20 rows\n",
      "\n",
      "+------------+---------------+---------+--------+---------+-----------+--------+------+----------+----+---------+-----+----------+-------------+--------+------------+-------+-------+--------+-------------+----------+-------------------+-----------------------+------------+---------------+---------------+-------------+\n",
      "|          id|           date|    price|bedrooms|bathrooms|sqft_living|sqft_lot|floors|waterfront|view|condition|grade|sqft_above|sqft_basement|yr_built|yr_renovated|zipcode|    lat|    long|sqft_living15|sqft_lot15|diffCurrentAndBuild|diffCurrentAndRenovated|zipcodeIndex|     zipcodeVec|waterfrontIndex|waterfrontVec|\n",
      "+------------+---------------+---------+--------+---------+-----------+--------+------+----------+----+---------+-----+----------+-------------+--------+------------+-------+-------+--------+-------------+----------+-------------------+-----------------------+------------+---------------+---------------+-------------+\n",
      "| 7.1293005E9|20141013T000000| 221900.0|     3.0|      1.0|     1180.0|  5650.0|   1.0|       0.0| 0.0|      3.0|  7.0|    1180.0|          0.0|  1955.0|         0.0|98178.0|47.5112|-122.257|       1340.0|    5650.0|               61.0|                 2016.0|        45.0|(69,[45],[1.0])|            0.0|(1,[0],[1.0])|\n",
      "|    6.4141E9|20141209T000000| 538000.0|     3.0|     2.25|     2570.0|  7242.0|   2.0|       0.0| 0.0|      3.0|  7.0|    2170.0|        400.0|  1951.0|      1991.0|98125.0| 47.721|-122.319|       1690.0|    7639.0|               65.0|                   25.0|        17.0|(69,[17],[1.0])|            0.0|(1,[0],[1.0])|\n",
      "| 5.6315003E9|20150225T000000| 180000.0|     2.0|      1.0|      770.0| 10000.0|   1.0|       0.0| 0.0|      3.0|  6.0|     770.0|          0.0|  1933.0|         0.0|98028.0|47.7379|-122.233|       2720.0|    8062.0|               83.0|                 2016.0|        34.0|(69,[34],[1.0])|            0.0|(1,[0],[1.0])|\n",
      "|2.48720077E9|20141209T000000| 604000.0|     4.0|      3.0|     1960.0|  5000.0|   1.0|       0.0| 0.0|      5.0|  7.0|    1050.0|        910.0|  1965.0|         0.0|98136.0|47.5208|-122.393|       1360.0|    5000.0|               51.0|                 2016.0|        44.0|(69,[44],[1.0])|            0.0|(1,[0],[1.0])|\n",
      "|1.95440051E9|20150218T000000| 510000.0|     3.0|      2.0|     1680.0|  8080.0|   1.0|       0.0| 0.0|      3.0|  8.0|    1680.0|          0.0|  1987.0|         0.0|98074.0|47.6168|-122.045|       1800.0|    7503.0|               29.0|                 2016.0|        14.0|(69,[14],[1.0])|            0.0|(1,[0],[1.0])|\n",
      "| 7.2375501E9|20140512T000000|1225000.0|     4.0|      4.5|     5420.0|101930.0|   1.0|       0.0| 0.0|      3.0| 11.0|    3890.0|       1530.0|  2001.0|         0.0|98053.0|47.6561|-122.005|       4760.0|  101930.0|               15.0|                 2016.0|        19.0|(69,[19],[1.0])|            0.0|(1,[0],[1.0])|\n",
      "|1.32140006E9|20140627T000000| 257500.0|     3.0|     2.25|     1715.0|  6819.0|   2.0|       0.0| 0.0|      3.0|  7.0|    1715.0|          0.0|  1995.0|         0.0|98003.0|47.3097|-122.327|       2238.0|    6819.0|               21.0|                 2016.0|        37.0|(69,[37],[1.0])|            0.0|(1,[0],[1.0])|\n",
      "|2.00800026E9|20150115T000000| 291850.0|     3.0|      1.5|     1060.0|  9711.0|   1.0|       0.0| 0.0|      3.0|  7.0|    1060.0|          0.0|  1963.0|         0.0|98198.0|47.4095|-122.315|       1650.0|    9711.0|               53.0|                 2016.0|        36.0|(69,[36],[1.0])|            0.0|(1,[0],[1.0])|\n",
      "|2.41460019E9|20150415T000000| 229500.0|     3.0|      1.0|     1780.0|  7470.0|   1.0|       0.0| 0.0|      3.0|  7.0|    1050.0|        730.0|  1960.0|         0.0|98146.0|47.5123|-122.337|       1780.0|    8113.0|               56.0|                 2016.0|        32.0|(69,[32],[1.0])|            0.0|(1,[0],[1.0])|\n",
      "|3.79350016E9|20150312T000000| 323000.0|     3.0|      2.5|     1890.0|  6560.0|   2.0|       0.0| 0.0|      3.0|  7.0|    1890.0|          0.0|  2003.0|         0.0|98038.0|47.3684|-122.031|       2390.0|    7570.0|               13.0|                 2016.0|         1.0| (69,[1],[1.0])|            0.0|(1,[0],[1.0])|\n",
      "|1.73680051E9|20150403T000000| 662500.0|     3.0|      2.5|     3560.0|  9796.0|   1.0|       0.0| 0.0|      3.0|  8.0|    1860.0|       1700.0|  1965.0|         0.0|98007.0|47.6007|-122.145|       2210.0|    8925.0|               51.0|                 2016.0|        59.0|(69,[59],[1.0])|            0.0|(1,[0],[1.0])|\n",
      "| 9.2129004E9|20140527T000000| 468000.0|     2.0|      1.0|     1160.0|  6000.0|   1.0|       0.0| 0.0|      4.0|  7.0|     860.0|        300.0|  1942.0|         0.0|98115.0|  47.69|-122.292|       1330.0|    6000.0|               74.0|                 2016.0|         2.0| (69,[2],[1.0])|            0.0|(1,[0],[1.0])|\n",
      "| 1.1410152E8|20140528T000000| 310000.0|     3.0|      1.0|     1430.0| 19901.0|   1.5|       0.0| 0.0|      4.0|  7.0|    1430.0|          0.0|  1927.0|         0.0|98028.0|47.7558|-122.229|       1780.0|   12697.0|               89.0|                 2016.0|        34.0|(69,[34],[1.0])|            0.0|(1,[0],[1.0])|\n",
      "| 6.0546499E9|20141007T000000| 400000.0|     3.0|     1.75|     1370.0|  9680.0|   1.0|       0.0| 0.0|      4.0|  7.0|    1370.0|          0.0|  1977.0|         0.0|98074.0|47.6127|-122.045|       1370.0|   10208.0|               39.0|                 2016.0|        14.0|(69,[14],[1.0])|            0.0|(1,[0],[1.0])|\n",
      "|1.17500058E9|20150312T000000| 530000.0|     5.0|      2.0|     1810.0|  4850.0|   1.5|       0.0| 0.0|      3.0|  7.0|    1810.0|          0.0|  1900.0|         0.0|98107.0|  47.67|-122.394|       1360.0|    4850.0|              116.0|                 2016.0|        43.0|(69,[43],[1.0])|            0.0|(1,[0],[1.0])|\n",
      "| 9.2973005E9|20150124T000000| 650000.0|     4.0|      3.0|     2950.0|  5000.0|   2.0|       0.0| 3.0|      3.0|  9.0|    1980.0|        970.0|  1979.0|         0.0|98126.0|47.5714|-122.375|       2140.0|    4000.0|               37.0|                 2016.0|        22.0|(69,[22],[1.0])|            0.0|(1,[0],[1.0])|\n",
      "|1.87550003E9|20140731T000000| 395000.0|     3.0|      2.0|     1890.0| 14040.0|   2.0|       0.0| 0.0|      3.0|  7.0|    1890.0|          0.0|  1994.0|         0.0|98019.0|47.7277|-121.962|       1890.0|   14018.0|               22.0|                 2016.0|        55.0|(69,[55],[1.0])|            0.0|(1,[0],[1.0])|\n",
      "| 6.8652001E9|20140529T000000| 485000.0|     4.0|      1.0|     1600.0|  4300.0|   1.5|       0.0| 0.0|      4.0|  7.0|    1600.0|          0.0|  1916.0|         0.0|98103.0|47.6648|-122.343|       1610.0|    4300.0|              100.0|                 2016.0|         0.0| (69,[0],[1.0])|            0.0|(1,[0],[1.0])|\n",
      "| 1.6000397E7|20141205T000000| 189000.0|     2.0|      1.0|     1200.0|  9850.0|   1.0|       0.0| 0.0|      4.0|  7.0|    1200.0|          0.0|  1921.0|         0.0|98002.0|47.3089| -122.21|       1060.0|    5095.0|               95.0|                 2016.0|        52.0|(69,[52],[1.0])|            0.0|(1,[0],[1.0])|\n",
      "| 7.9832003E9|20150424T000000| 230000.0|     3.0|      1.0|     1250.0|  9774.0|   1.0|       0.0| 0.0|      4.0|  7.0|    1250.0|          0.0|  1969.0|         0.0|98003.0|47.3343|-122.306|       1280.0|    8850.0|               47.0|                 2016.0|        37.0|(69,[37],[1.0])|            0.0|(1,[0],[1.0])|\n",
      "+------------+---------------+---------+--------+---------+-----------+--------+------+----------+----+---------+-----+----------+-------------+--------+------------+-------+-------+--------+-------------+----------+-------------------+-----------------------+------------+---------------+---------------+-------------+\n",
      "only showing top 20 rows\n",
      "\n"
     ]
    },
    {
     "name": "stdout",
     "output_type": "stream",
     "text": [
      "+------------+---------------+---------+--------+---------+-----------+--------+------+----------+----+---------+-----+----------+-------------+--------+------------+-------+-------+--------+-------------+----------+-------------------+-----------------------+------------+---------------+---------------+-------------+----------+--------------+\n",
      "|          id|           date|    price|bedrooms|bathrooms|sqft_living|sqft_lot|floors|waterfront|view|condition|grade|sqft_above|sqft_basement|yr_built|yr_renovated|zipcode|    lat|    long|sqft_living15|sqft_lot15|diffCurrentAndBuild|diffCurrentAndRenovated|zipcodeIndex|     zipcodeVec|waterfrontIndex|waterfrontVec|gradeIndex|      gradeVec|\n",
      "+------------+---------------+---------+--------+---------+-----------+--------+------+----------+----+---------+-----+----------+-------------+--------+------------+-------+-------+--------+-------------+----------+-------------------+-----------------------+------------+---------------+---------------+-------------+----------+--------------+\n",
      "| 7.1293005E9|20141013T000000| 221900.0|     3.0|      1.0|     1180.0|  5650.0|   1.0|       0.0| 0.0|      3.0|  7.0|    1180.0|          0.0|  1955.0|         0.0|98178.0|47.5112|-122.257|       1340.0|    5650.0|               61.0|                 2016.0|        45.0|(69,[45],[1.0])|            0.0|(1,[0],[1.0])|       0.0|(11,[0],[1.0])|\n",
      "|    6.4141E9|20141209T000000| 538000.0|     3.0|     2.25|     2570.0|  7242.0|   2.0|       0.0| 0.0|      3.0|  7.0|    2170.0|        400.0|  1951.0|      1991.0|98125.0| 47.721|-122.319|       1690.0|    7639.0|               65.0|                   25.0|        17.0|(69,[17],[1.0])|            0.0|(1,[0],[1.0])|       0.0|(11,[0],[1.0])|\n",
      "| 5.6315003E9|20150225T000000| 180000.0|     2.0|      1.0|      770.0| 10000.0|   1.0|       0.0| 0.0|      3.0|  6.0|     770.0|          0.0|  1933.0|         0.0|98028.0|47.7379|-122.233|       2720.0|    8062.0|               83.0|                 2016.0|        34.0|(69,[34],[1.0])|            0.0|(1,[0],[1.0])|       3.0|(11,[3],[1.0])|\n",
      "|2.48720077E9|20141209T000000| 604000.0|     4.0|      3.0|     1960.0|  5000.0|   1.0|       0.0| 0.0|      5.0|  7.0|    1050.0|        910.0|  1965.0|         0.0|98136.0|47.5208|-122.393|       1360.0|    5000.0|               51.0|                 2016.0|        44.0|(69,[44],[1.0])|            0.0|(1,[0],[1.0])|       0.0|(11,[0],[1.0])|\n",
      "|1.95440051E9|20150218T000000| 510000.0|     3.0|      2.0|     1680.0|  8080.0|   1.0|       0.0| 0.0|      3.0|  8.0|    1680.0|          0.0|  1987.0|         0.0|98074.0|47.6168|-122.045|       1800.0|    7503.0|               29.0|                 2016.0|        14.0|(69,[14],[1.0])|            0.0|(1,[0],[1.0])|       1.0|(11,[1],[1.0])|\n",
      "| 7.2375501E9|20140512T000000|1225000.0|     4.0|      4.5|     5420.0|101930.0|   1.0|       0.0| 0.0|      3.0| 11.0|    3890.0|       1530.0|  2001.0|         0.0|98053.0|47.6561|-122.005|       4760.0|  101930.0|               15.0|                 2016.0|        19.0|(69,[19],[1.0])|            0.0|(1,[0],[1.0])|       5.0|(11,[5],[1.0])|\n",
      "|1.32140006E9|20140627T000000| 257500.0|     3.0|     2.25|     1715.0|  6819.0|   2.0|       0.0| 0.0|      3.0|  7.0|    1715.0|          0.0|  1995.0|         0.0|98003.0|47.3097|-122.327|       2238.0|    6819.0|               21.0|                 2016.0|        37.0|(69,[37],[1.0])|            0.0|(1,[0],[1.0])|       0.0|(11,[0],[1.0])|\n",
      "|2.00800026E9|20150115T000000| 291850.0|     3.0|      1.5|     1060.0|  9711.0|   1.0|       0.0| 0.0|      3.0|  7.0|    1060.0|          0.0|  1963.0|         0.0|98198.0|47.4095|-122.315|       1650.0|    9711.0|               53.0|                 2016.0|        36.0|(69,[36],[1.0])|            0.0|(1,[0],[1.0])|       0.0|(11,[0],[1.0])|\n",
      "|2.41460019E9|20150415T000000| 229500.0|     3.0|      1.0|     1780.0|  7470.0|   1.0|       0.0| 0.0|      3.0|  7.0|    1050.0|        730.0|  1960.0|         0.0|98146.0|47.5123|-122.337|       1780.0|    8113.0|               56.0|                 2016.0|        32.0|(69,[32],[1.0])|            0.0|(1,[0],[1.0])|       0.0|(11,[0],[1.0])|\n",
      "|3.79350016E9|20150312T000000| 323000.0|     3.0|      2.5|     1890.0|  6560.0|   2.0|       0.0| 0.0|      3.0|  7.0|    1890.0|          0.0|  2003.0|         0.0|98038.0|47.3684|-122.031|       2390.0|    7570.0|               13.0|                 2016.0|         1.0| (69,[1],[1.0])|            0.0|(1,[0],[1.0])|       0.0|(11,[0],[1.0])|\n",
      "|1.73680051E9|20150403T000000| 662500.0|     3.0|      2.5|     3560.0|  9796.0|   1.0|       0.0| 0.0|      3.0|  8.0|    1860.0|       1700.0|  1965.0|         0.0|98007.0|47.6007|-122.145|       2210.0|    8925.0|               51.0|                 2016.0|        59.0|(69,[59],[1.0])|            0.0|(1,[0],[1.0])|       1.0|(11,[1],[1.0])|\n",
      "| 9.2129004E9|20140527T000000| 468000.0|     2.0|      1.0|     1160.0|  6000.0|   1.0|       0.0| 0.0|      4.0|  7.0|     860.0|        300.0|  1942.0|         0.0|98115.0|  47.69|-122.292|       1330.0|    6000.0|               74.0|                 2016.0|         2.0| (69,[2],[1.0])|            0.0|(1,[0],[1.0])|       0.0|(11,[0],[1.0])|\n",
      "| 1.1410152E8|20140528T000000| 310000.0|     3.0|      1.0|     1430.0| 19901.0|   1.5|       0.0| 0.0|      4.0|  7.0|    1430.0|          0.0|  1927.0|         0.0|98028.0|47.7558|-122.229|       1780.0|   12697.0|               89.0|                 2016.0|        34.0|(69,[34],[1.0])|            0.0|(1,[0],[1.0])|       0.0|(11,[0],[1.0])|\n",
      "| 6.0546499E9|20141007T000000| 400000.0|     3.0|     1.75|     1370.0|  9680.0|   1.0|       0.0| 0.0|      4.0|  7.0|    1370.0|          0.0|  1977.0|         0.0|98074.0|47.6127|-122.045|       1370.0|   10208.0|               39.0|                 2016.0|        14.0|(69,[14],[1.0])|            0.0|(1,[0],[1.0])|       0.0|(11,[0],[1.0])|\n",
      "|1.17500058E9|20150312T000000| 530000.0|     5.0|      2.0|     1810.0|  4850.0|   1.5|       0.0| 0.0|      3.0|  7.0|    1810.0|          0.0|  1900.0|         0.0|98107.0|  47.67|-122.394|       1360.0|    4850.0|              116.0|                 2016.0|        43.0|(69,[43],[1.0])|            0.0|(1,[0],[1.0])|       0.0|(11,[0],[1.0])|\n",
      "| 9.2973005E9|20150124T000000| 650000.0|     4.0|      3.0|     2950.0|  5000.0|   2.0|       0.0| 3.0|      3.0|  9.0|    1980.0|        970.0|  1979.0|         0.0|98126.0|47.5714|-122.375|       2140.0|    4000.0|               37.0|                 2016.0|        22.0|(69,[22],[1.0])|            0.0|(1,[0],[1.0])|       2.0|(11,[2],[1.0])|\n",
      "|1.87550003E9|20140731T000000| 395000.0|     3.0|      2.0|     1890.0| 14040.0|   2.0|       0.0| 0.0|      3.0|  7.0|    1890.0|          0.0|  1994.0|         0.0|98019.0|47.7277|-121.962|       1890.0|   14018.0|               22.0|                 2016.0|        55.0|(69,[55],[1.0])|            0.0|(1,[0],[1.0])|       0.0|(11,[0],[1.0])|\n",
      "| 6.8652001E9|20140529T000000| 485000.0|     4.0|      1.0|     1600.0|  4300.0|   1.5|       0.0| 0.0|      4.0|  7.0|    1600.0|          0.0|  1916.0|         0.0|98103.0|47.6648|-122.343|       1610.0|    4300.0|              100.0|                 2016.0|         0.0| (69,[0],[1.0])|            0.0|(1,[0],[1.0])|       0.0|(11,[0],[1.0])|\n",
      "| 1.6000397E7|20141205T000000| 189000.0|     2.0|      1.0|     1200.0|  9850.0|   1.0|       0.0| 0.0|      4.0|  7.0|    1200.0|          0.0|  1921.0|         0.0|98002.0|47.3089| -122.21|       1060.0|    5095.0|               95.0|                 2016.0|        52.0|(69,[52],[1.0])|            0.0|(1,[0],[1.0])|       0.0|(11,[0],[1.0])|\n",
      "| 7.9832003E9|20150424T000000| 230000.0|     3.0|      1.0|     1250.0|  9774.0|   1.0|       0.0| 0.0|      4.0|  7.0|    1250.0|          0.0|  1969.0|         0.0|98003.0|47.3343|-122.306|       1280.0|    8850.0|               47.0|                 2016.0|        37.0|(69,[37],[1.0])|            0.0|(1,[0],[1.0])|       0.0|(11,[0],[1.0])|\n",
      "+------------+---------------+---------+--------+---------+-----------+--------+------+----------+----+---------+-----+----------+-------------+--------+------------+-------+-------+--------+-------------+----------+-------------------+-----------------------+------------+---------------+---------------+-------------+----------+--------------+\n",
      "only showing top 20 rows\n",
      "\n"
     ]
    },
    {
     "name": "stdout",
     "output_type": "stream",
     "text": [
      "+------------+---------------+---------+--------+---------+-----------+--------+------+----------+----+---------+-----+----------+-------------+--------+------------+-------+-------+--------+-------------+----------+-------------------+-----------------------+------------+---------------+---------------+-------------+----------+--------------+--------------+-------------+\n",
      "|          id|           date|    price|bedrooms|bathrooms|sqft_living|sqft_lot|floors|waterfront|view|condition|grade|sqft_above|sqft_basement|yr_built|yr_renovated|zipcode|    lat|    long|sqft_living15|sqft_lot15|diffCurrentAndBuild|diffCurrentAndRenovated|zipcodeIndex|     zipcodeVec|waterfrontIndex|waterfrontVec|gradeIndex|      gradeVec|conditionIndex| conditionVec|\n",
      "+------------+---------------+---------+--------+---------+-----------+--------+------+----------+----+---------+-----+----------+-------------+--------+------------+-------+-------+--------+-------------+----------+-------------------+-----------------------+------------+---------------+---------------+-------------+----------+--------------+--------------+-------------+\n",
      "| 7.1293005E9|20141013T000000| 221900.0|     3.0|      1.0|     1180.0|  5650.0|   1.0|       0.0| 0.0|      3.0|  7.0|    1180.0|          0.0|  1955.0|         0.0|98178.0|47.5112|-122.257|       1340.0|    5650.0|               61.0|                 2016.0|        45.0|(69,[45],[1.0])|            0.0|(1,[0],[1.0])|       0.0|(11,[0],[1.0])|           0.0|(4,[0],[1.0])|\n",
      "|    6.4141E9|20141209T000000| 538000.0|     3.0|     2.25|     2570.0|  7242.0|   2.0|       0.0| 0.0|      3.0|  7.0|    2170.0|        400.0|  1951.0|      1991.0|98125.0| 47.721|-122.319|       1690.0|    7639.0|               65.0|                   25.0|        17.0|(69,[17],[1.0])|            0.0|(1,[0],[1.0])|       0.0|(11,[0],[1.0])|           0.0|(4,[0],[1.0])|\n",
      "| 5.6315003E9|20150225T000000| 180000.0|     2.0|      1.0|      770.0| 10000.0|   1.0|       0.0| 0.0|      3.0|  6.0|     770.0|          0.0|  1933.0|         0.0|98028.0|47.7379|-122.233|       2720.0|    8062.0|               83.0|                 2016.0|        34.0|(69,[34],[1.0])|            0.0|(1,[0],[1.0])|       3.0|(11,[3],[1.0])|           0.0|(4,[0],[1.0])|\n",
      "|2.48720077E9|20141209T000000| 604000.0|     4.0|      3.0|     1960.0|  5000.0|   1.0|       0.0| 0.0|      5.0|  7.0|    1050.0|        910.0|  1965.0|         0.0|98136.0|47.5208|-122.393|       1360.0|    5000.0|               51.0|                 2016.0|        44.0|(69,[44],[1.0])|            0.0|(1,[0],[1.0])|       0.0|(11,[0],[1.0])|           2.0|(4,[2],[1.0])|\n",
      "|1.95440051E9|20150218T000000| 510000.0|     3.0|      2.0|     1680.0|  8080.0|   1.0|       0.0| 0.0|      3.0|  8.0|    1680.0|          0.0|  1987.0|         0.0|98074.0|47.6168|-122.045|       1800.0|    7503.0|               29.0|                 2016.0|        14.0|(69,[14],[1.0])|            0.0|(1,[0],[1.0])|       1.0|(11,[1],[1.0])|           0.0|(4,[0],[1.0])|\n",
      "| 7.2375501E9|20140512T000000|1225000.0|     4.0|      4.5|     5420.0|101930.0|   1.0|       0.0| 0.0|      3.0| 11.0|    3890.0|       1530.0|  2001.0|         0.0|98053.0|47.6561|-122.005|       4760.0|  101930.0|               15.0|                 2016.0|        19.0|(69,[19],[1.0])|            0.0|(1,[0],[1.0])|       5.0|(11,[5],[1.0])|           0.0|(4,[0],[1.0])|\n",
      "|1.32140006E9|20140627T000000| 257500.0|     3.0|     2.25|     1715.0|  6819.0|   2.0|       0.0| 0.0|      3.0|  7.0|    1715.0|          0.0|  1995.0|         0.0|98003.0|47.3097|-122.327|       2238.0|    6819.0|               21.0|                 2016.0|        37.0|(69,[37],[1.0])|            0.0|(1,[0],[1.0])|       0.0|(11,[0],[1.0])|           0.0|(4,[0],[1.0])|\n",
      "|2.00800026E9|20150115T000000| 291850.0|     3.0|      1.5|     1060.0|  9711.0|   1.0|       0.0| 0.0|      3.0|  7.0|    1060.0|          0.0|  1963.0|         0.0|98198.0|47.4095|-122.315|       1650.0|    9711.0|               53.0|                 2016.0|        36.0|(69,[36],[1.0])|            0.0|(1,[0],[1.0])|       0.0|(11,[0],[1.0])|           0.0|(4,[0],[1.0])|\n",
      "|2.41460019E9|20150415T000000| 229500.0|     3.0|      1.0|     1780.0|  7470.0|   1.0|       0.0| 0.0|      3.0|  7.0|    1050.0|        730.0|  1960.0|         0.0|98146.0|47.5123|-122.337|       1780.0|    8113.0|               56.0|                 2016.0|        32.0|(69,[32],[1.0])|            0.0|(1,[0],[1.0])|       0.0|(11,[0],[1.0])|           0.0|(4,[0],[1.0])|\n",
      "|3.79350016E9|20150312T000000| 323000.0|     3.0|      2.5|     1890.0|  6560.0|   2.0|       0.0| 0.0|      3.0|  7.0|    1890.0|          0.0|  2003.0|         0.0|98038.0|47.3684|-122.031|       2390.0|    7570.0|               13.0|                 2016.0|         1.0| (69,[1],[1.0])|            0.0|(1,[0],[1.0])|       0.0|(11,[0],[1.0])|           0.0|(4,[0],[1.0])|\n",
      "|1.73680051E9|20150403T000000| 662500.0|     3.0|      2.5|     3560.0|  9796.0|   1.0|       0.0| 0.0|      3.0|  8.0|    1860.0|       1700.0|  1965.0|         0.0|98007.0|47.6007|-122.145|       2210.0|    8925.0|               51.0|                 2016.0|        59.0|(69,[59],[1.0])|            0.0|(1,[0],[1.0])|       1.0|(11,[1],[1.0])|           0.0|(4,[0],[1.0])|\n",
      "| 9.2129004E9|20140527T000000| 468000.0|     2.0|      1.0|     1160.0|  6000.0|   1.0|       0.0| 0.0|      4.0|  7.0|     860.0|        300.0|  1942.0|         0.0|98115.0|  47.69|-122.292|       1330.0|    6000.0|               74.0|                 2016.0|         2.0| (69,[2],[1.0])|            0.0|(1,[0],[1.0])|       0.0|(11,[0],[1.0])|           1.0|(4,[1],[1.0])|\n",
      "| 1.1410152E8|20140528T000000| 310000.0|     3.0|      1.0|     1430.0| 19901.0|   1.5|       0.0| 0.0|      4.0|  7.0|    1430.0|          0.0|  1927.0|         0.0|98028.0|47.7558|-122.229|       1780.0|   12697.0|               89.0|                 2016.0|        34.0|(69,[34],[1.0])|            0.0|(1,[0],[1.0])|       0.0|(11,[0],[1.0])|           1.0|(4,[1],[1.0])|\n",
      "| 6.0546499E9|20141007T000000| 400000.0|     3.0|     1.75|     1370.0|  9680.0|   1.0|       0.0| 0.0|      4.0|  7.0|    1370.0|          0.0|  1977.0|         0.0|98074.0|47.6127|-122.045|       1370.0|   10208.0|               39.0|                 2016.0|        14.0|(69,[14],[1.0])|            0.0|(1,[0],[1.0])|       0.0|(11,[0],[1.0])|           1.0|(4,[1],[1.0])|\n",
      "|1.17500058E9|20150312T000000| 530000.0|     5.0|      2.0|     1810.0|  4850.0|   1.5|       0.0| 0.0|      3.0|  7.0|    1810.0|          0.0|  1900.0|         0.0|98107.0|  47.67|-122.394|       1360.0|    4850.0|              116.0|                 2016.0|        43.0|(69,[43],[1.0])|            0.0|(1,[0],[1.0])|       0.0|(11,[0],[1.0])|           0.0|(4,[0],[1.0])|\n",
      "| 9.2973005E9|20150124T000000| 650000.0|     4.0|      3.0|     2950.0|  5000.0|   2.0|       0.0| 3.0|      3.0|  9.0|    1980.0|        970.0|  1979.0|         0.0|98126.0|47.5714|-122.375|       2140.0|    4000.0|               37.0|                 2016.0|        22.0|(69,[22],[1.0])|            0.0|(1,[0],[1.0])|       2.0|(11,[2],[1.0])|           0.0|(4,[0],[1.0])|\n",
      "|1.87550003E9|20140731T000000| 395000.0|     3.0|      2.0|     1890.0| 14040.0|   2.0|       0.0| 0.0|      3.0|  7.0|    1890.0|          0.0|  1994.0|         0.0|98019.0|47.7277|-121.962|       1890.0|   14018.0|               22.0|                 2016.0|        55.0|(69,[55],[1.0])|            0.0|(1,[0],[1.0])|       0.0|(11,[0],[1.0])|           0.0|(4,[0],[1.0])|\n",
      "| 6.8652001E9|20140529T000000| 485000.0|     4.0|      1.0|     1600.0|  4300.0|   1.5|       0.0| 0.0|      4.0|  7.0|    1600.0|          0.0|  1916.0|         0.0|98103.0|47.6648|-122.343|       1610.0|    4300.0|              100.0|                 2016.0|         0.0| (69,[0],[1.0])|            0.0|(1,[0],[1.0])|       0.0|(11,[0],[1.0])|           1.0|(4,[1],[1.0])|\n",
      "| 1.6000397E7|20141205T000000| 189000.0|     2.0|      1.0|     1200.0|  9850.0|   1.0|       0.0| 0.0|      4.0|  7.0|    1200.0|          0.0|  1921.0|         0.0|98002.0|47.3089| -122.21|       1060.0|    5095.0|               95.0|                 2016.0|        52.0|(69,[52],[1.0])|            0.0|(1,[0],[1.0])|       0.0|(11,[0],[1.0])|           1.0|(4,[1],[1.0])|\n",
      "| 7.9832003E9|20150424T000000| 230000.0|     3.0|      1.0|     1250.0|  9774.0|   1.0|       0.0| 0.0|      4.0|  7.0|    1250.0|          0.0|  1969.0|         0.0|98003.0|47.3343|-122.306|       1280.0|    8850.0|               47.0|                 2016.0|        37.0|(69,[37],[1.0])|            0.0|(1,[0],[1.0])|       0.0|(11,[0],[1.0])|           1.0|(4,[1],[1.0])|\n",
      "+------------+---------------+---------+--------+---------+-----------+--------+------+----------+----+---------+-----+----------+-------------+--------+------------+-------+-------+--------+-------------+----------+-------------------+-----------------------+------------+---------------+---------------+-------------+----------+--------------+--------------+-------------+\n",
      "only showing top 20 rows\n",
      "\n"
     ]
    },
    {
     "name": "stdout",
     "output_type": "stream",
     "text": [
      "+------------+---------------+---------+--------+---------+-----------+--------+------+----------+----+---------+-----+----------+-------------+--------+------------+-------+-------+--------+-------------+----------+-------------------+-----------------------+------------+---------------+---------------+-------------+----------+--------------+--------------+-------------+---------+-------------+\n",
      "|          id|           date|    price|bedrooms|bathrooms|sqft_living|sqft_lot|floors|waterfront|view|condition|grade|sqft_above|sqft_basement|yr_built|yr_renovated|zipcode|    lat|    long|sqft_living15|sqft_lot15|diffCurrentAndBuild|diffCurrentAndRenovated|zipcodeIndex|     zipcodeVec|waterfrontIndex|waterfrontVec|gradeIndex|      gradeVec|conditionIndex| conditionVec|viewIndex|      viewVec|\n",
      "+------------+---------------+---------+--------+---------+-----------+--------+------+----------+----+---------+-----+----------+-------------+--------+------------+-------+-------+--------+-------------+----------+-------------------+-----------------------+------------+---------------+---------------+-------------+----------+--------------+--------------+-------------+---------+-------------+\n",
      "| 7.1293005E9|20141013T000000| 221900.0|     3.0|      1.0|     1180.0|  5650.0|   1.0|       0.0| 0.0|      3.0|  7.0|    1180.0|          0.0|  1955.0|         0.0|98178.0|47.5112|-122.257|       1340.0|    5650.0|               61.0|                 2016.0|        45.0|(69,[45],[1.0])|            0.0|(1,[0],[1.0])|       0.0|(11,[0],[1.0])|           0.0|(4,[0],[1.0])|      0.0|(4,[0],[1.0])|\n",
      "|    6.4141E9|20141209T000000| 538000.0|     3.0|     2.25|     2570.0|  7242.0|   2.0|       0.0| 0.0|      3.0|  7.0|    2170.0|        400.0|  1951.0|      1991.0|98125.0| 47.721|-122.319|       1690.0|    7639.0|               65.0|                   25.0|        17.0|(69,[17],[1.0])|            0.0|(1,[0],[1.0])|       0.0|(11,[0],[1.0])|           0.0|(4,[0],[1.0])|      0.0|(4,[0],[1.0])|\n",
      "| 5.6315003E9|20150225T000000| 180000.0|     2.0|      1.0|      770.0| 10000.0|   1.0|       0.0| 0.0|      3.0|  6.0|     770.0|          0.0|  1933.0|         0.0|98028.0|47.7379|-122.233|       2720.0|    8062.0|               83.0|                 2016.0|        34.0|(69,[34],[1.0])|            0.0|(1,[0],[1.0])|       3.0|(11,[3],[1.0])|           0.0|(4,[0],[1.0])|      0.0|(4,[0],[1.0])|\n",
      "|2.48720077E9|20141209T000000| 604000.0|     4.0|      3.0|     1960.0|  5000.0|   1.0|       0.0| 0.0|      5.0|  7.0|    1050.0|        910.0|  1965.0|         0.0|98136.0|47.5208|-122.393|       1360.0|    5000.0|               51.0|                 2016.0|        44.0|(69,[44],[1.0])|            0.0|(1,[0],[1.0])|       0.0|(11,[0],[1.0])|           2.0|(4,[2],[1.0])|      0.0|(4,[0],[1.0])|\n",
      "|1.95440051E9|20150218T000000| 510000.0|     3.0|      2.0|     1680.0|  8080.0|   1.0|       0.0| 0.0|      3.0|  8.0|    1680.0|          0.0|  1987.0|         0.0|98074.0|47.6168|-122.045|       1800.0|    7503.0|               29.0|                 2016.0|        14.0|(69,[14],[1.0])|            0.0|(1,[0],[1.0])|       1.0|(11,[1],[1.0])|           0.0|(4,[0],[1.0])|      0.0|(4,[0],[1.0])|\n",
      "| 7.2375501E9|20140512T000000|1225000.0|     4.0|      4.5|     5420.0|101930.0|   1.0|       0.0| 0.0|      3.0| 11.0|    3890.0|       1530.0|  2001.0|         0.0|98053.0|47.6561|-122.005|       4760.0|  101930.0|               15.0|                 2016.0|        19.0|(69,[19],[1.0])|            0.0|(1,[0],[1.0])|       5.0|(11,[5],[1.0])|           0.0|(4,[0],[1.0])|      0.0|(4,[0],[1.0])|\n",
      "|1.32140006E9|20140627T000000| 257500.0|     3.0|     2.25|     1715.0|  6819.0|   2.0|       0.0| 0.0|      3.0|  7.0|    1715.0|          0.0|  1995.0|         0.0|98003.0|47.3097|-122.327|       2238.0|    6819.0|               21.0|                 2016.0|        37.0|(69,[37],[1.0])|            0.0|(1,[0],[1.0])|       0.0|(11,[0],[1.0])|           0.0|(4,[0],[1.0])|      0.0|(4,[0],[1.0])|\n",
      "|2.00800026E9|20150115T000000| 291850.0|     3.0|      1.5|     1060.0|  9711.0|   1.0|       0.0| 0.0|      3.0|  7.0|    1060.0|          0.0|  1963.0|         0.0|98198.0|47.4095|-122.315|       1650.0|    9711.0|               53.0|                 2016.0|        36.0|(69,[36],[1.0])|            0.0|(1,[0],[1.0])|       0.0|(11,[0],[1.0])|           0.0|(4,[0],[1.0])|      0.0|(4,[0],[1.0])|\n",
      "|2.41460019E9|20150415T000000| 229500.0|     3.0|      1.0|     1780.0|  7470.0|   1.0|       0.0| 0.0|      3.0|  7.0|    1050.0|        730.0|  1960.0|         0.0|98146.0|47.5123|-122.337|       1780.0|    8113.0|               56.0|                 2016.0|        32.0|(69,[32],[1.0])|            0.0|(1,[0],[1.0])|       0.0|(11,[0],[1.0])|           0.0|(4,[0],[1.0])|      0.0|(4,[0],[1.0])|\n",
      "|3.79350016E9|20150312T000000| 323000.0|     3.0|      2.5|     1890.0|  6560.0|   2.0|       0.0| 0.0|      3.0|  7.0|    1890.0|          0.0|  2003.0|         0.0|98038.0|47.3684|-122.031|       2390.0|    7570.0|               13.0|                 2016.0|         1.0| (69,[1],[1.0])|            0.0|(1,[0],[1.0])|       0.0|(11,[0],[1.0])|           0.0|(4,[0],[1.0])|      0.0|(4,[0],[1.0])|\n",
      "|1.73680051E9|20150403T000000| 662500.0|     3.0|      2.5|     3560.0|  9796.0|   1.0|       0.0| 0.0|      3.0|  8.0|    1860.0|       1700.0|  1965.0|         0.0|98007.0|47.6007|-122.145|       2210.0|    8925.0|               51.0|                 2016.0|        59.0|(69,[59],[1.0])|            0.0|(1,[0],[1.0])|       1.0|(11,[1],[1.0])|           0.0|(4,[0],[1.0])|      0.0|(4,[0],[1.0])|\n",
      "| 9.2129004E9|20140527T000000| 468000.0|     2.0|      1.0|     1160.0|  6000.0|   1.0|       0.0| 0.0|      4.0|  7.0|     860.0|        300.0|  1942.0|         0.0|98115.0|  47.69|-122.292|       1330.0|    6000.0|               74.0|                 2016.0|         2.0| (69,[2],[1.0])|            0.0|(1,[0],[1.0])|       0.0|(11,[0],[1.0])|           1.0|(4,[1],[1.0])|      0.0|(4,[0],[1.0])|\n",
      "| 1.1410152E8|20140528T000000| 310000.0|     3.0|      1.0|     1430.0| 19901.0|   1.5|       0.0| 0.0|      4.0|  7.0|    1430.0|          0.0|  1927.0|         0.0|98028.0|47.7558|-122.229|       1780.0|   12697.0|               89.0|                 2016.0|        34.0|(69,[34],[1.0])|            0.0|(1,[0],[1.0])|       0.0|(11,[0],[1.0])|           1.0|(4,[1],[1.0])|      0.0|(4,[0],[1.0])|\n",
      "| 6.0546499E9|20141007T000000| 400000.0|     3.0|     1.75|     1370.0|  9680.0|   1.0|       0.0| 0.0|      4.0|  7.0|    1370.0|          0.0|  1977.0|         0.0|98074.0|47.6127|-122.045|       1370.0|   10208.0|               39.0|                 2016.0|        14.0|(69,[14],[1.0])|            0.0|(1,[0],[1.0])|       0.0|(11,[0],[1.0])|           1.0|(4,[1],[1.0])|      0.0|(4,[0],[1.0])|\n",
      "|1.17500058E9|20150312T000000| 530000.0|     5.0|      2.0|     1810.0|  4850.0|   1.5|       0.0| 0.0|      3.0|  7.0|    1810.0|          0.0|  1900.0|         0.0|98107.0|  47.67|-122.394|       1360.0|    4850.0|              116.0|                 2016.0|        43.0|(69,[43],[1.0])|            0.0|(1,[0],[1.0])|       0.0|(11,[0],[1.0])|           0.0|(4,[0],[1.0])|      0.0|(4,[0],[1.0])|\n",
      "| 9.2973005E9|20150124T000000| 650000.0|     4.0|      3.0|     2950.0|  5000.0|   2.0|       0.0| 3.0|      3.0|  9.0|    1980.0|        970.0|  1979.0|         0.0|98126.0|47.5714|-122.375|       2140.0|    4000.0|               37.0|                 2016.0|        22.0|(69,[22],[1.0])|            0.0|(1,[0],[1.0])|       2.0|(11,[2],[1.0])|           0.0|(4,[0],[1.0])|      2.0|(4,[2],[1.0])|\n",
      "|1.87550003E9|20140731T000000| 395000.0|     3.0|      2.0|     1890.0| 14040.0|   2.0|       0.0| 0.0|      3.0|  7.0|    1890.0|          0.0|  1994.0|         0.0|98019.0|47.7277|-121.962|       1890.0|   14018.0|               22.0|                 2016.0|        55.0|(69,[55],[1.0])|            0.0|(1,[0],[1.0])|       0.0|(11,[0],[1.0])|           0.0|(4,[0],[1.0])|      0.0|(4,[0],[1.0])|\n",
      "| 6.8652001E9|20140529T000000| 485000.0|     4.0|      1.0|     1600.0|  4300.0|   1.5|       0.0| 0.0|      4.0|  7.0|    1600.0|          0.0|  1916.0|         0.0|98103.0|47.6648|-122.343|       1610.0|    4300.0|              100.0|                 2016.0|         0.0| (69,[0],[1.0])|            0.0|(1,[0],[1.0])|       0.0|(11,[0],[1.0])|           1.0|(4,[1],[1.0])|      0.0|(4,[0],[1.0])|\n",
      "| 1.6000397E7|20141205T000000| 189000.0|     2.0|      1.0|     1200.0|  9850.0|   1.0|       0.0| 0.0|      4.0|  7.0|    1200.0|          0.0|  1921.0|         0.0|98002.0|47.3089| -122.21|       1060.0|    5095.0|               95.0|                 2016.0|        52.0|(69,[52],[1.0])|            0.0|(1,[0],[1.0])|       0.0|(11,[0],[1.0])|           1.0|(4,[1],[1.0])|      0.0|(4,[0],[1.0])|\n",
      "| 7.9832003E9|20150424T000000| 230000.0|     3.0|      1.0|     1250.0|  9774.0|   1.0|       0.0| 0.0|      4.0|  7.0|    1250.0|          0.0|  1969.0|         0.0|98003.0|47.3343|-122.306|       1280.0|    8850.0|               47.0|                 2016.0|        37.0|(69,[37],[1.0])|            0.0|(1,[0],[1.0])|       0.0|(11,[0],[1.0])|           1.0|(4,[1],[1.0])|      0.0|(4,[0],[1.0])|\n",
      "+------------+---------------+---------+--------+---------+-----------+--------+------+----------+----+---------+-----+----------+-------------+--------+------------+-------+-------+--------+-------------+----------+-------------------+-----------------------+------------+---------------+---------------+-------------+----------+--------------+--------------+-------------+---------+-------------+\n",
      "only showing top 20 rows\n",
      "\n"
     ]
    }
   ],
   "source": [
    "for col in category_values:\n",
    "    input_df = one_hot_encode( input_df, col )\n"
   ]
  },
  {
   "cell_type": "code",
   "execution_count": 247,
   "metadata": {},
   "outputs": [
    {
     "name": "stdout",
     "output_type": "stream",
     "text": [
      "+-------------+\n",
      "|      viewVec|\n",
      "+-------------+\n",
      "|(4,[0],[1.0])|\n",
      "+-------------+\n",
      "only showing top 1 row\n",
      "\n"
     ]
    }
   ],
   "source": [
    "input_df.select('viewVec').show(1)"
   ]
  },
  {
   "cell_type": "code",
   "execution_count": 248,
   "metadata": {},
   "outputs": [
    {
     "data": {
      "text/plain": [
       "['zipcodeVec', 'waterfrontVec', 'gradeVec', 'conditionVec', 'viewVec']"
      ]
     },
     "execution_count": 248,
     "metadata": {},
     "output_type": "execute_result"
    }
   ],
   "source": [
    "lis_vec_cols = []\n",
    "for i in category_values:\n",
    "    lis_vec_cols.append(i+\"Vec\")\n",
    "lis_vec_cols"
   ]
  },
  {
   "cell_type": "code",
   "execution_count": 249,
   "metadata": {},
   "outputs": [],
   "source": [
    "all_cols = cont_values + lis_vec_cols"
   ]
  },
  {
   "cell_type": "code",
   "execution_count": 250,
   "metadata": {},
   "outputs": [
    {
     "data": {
      "text/plain": [
       "['id',\n",
       " 'date',\n",
       " 'price',\n",
       " 'bedrooms',\n",
       " 'bathrooms',\n",
       " 'sqft_living',\n",
       " 'sqft_lot',\n",
       " 'floors',\n",
       " 'waterfront',\n",
       " 'view',\n",
       " 'condition',\n",
       " 'grade',\n",
       " 'sqft_above',\n",
       " 'sqft_basement',\n",
       " 'yr_built',\n",
       " 'yr_renovated',\n",
       " 'zipcode',\n",
       " 'lat',\n",
       " 'long',\n",
       " 'sqft_living15',\n",
       " 'sqft_lot15',\n",
       " 'diffCurrentAndBuild',\n",
       " 'diffCurrentAndRenovated',\n",
       " 'zipcodeIndex',\n",
       " 'zipcodeVec',\n",
       " 'waterfrontIndex',\n",
       " 'waterfrontVec',\n",
       " 'gradeIndex',\n",
       " 'gradeVec',\n",
       " 'conditionIndex',\n",
       " 'conditionVec',\n",
       " 'viewIndex',\n",
       " 'viewVec']"
      ]
     },
     "execution_count": 250,
     "metadata": {},
     "output_type": "execute_result"
    }
   ],
   "source": [
    "input_df.columns"
   ]
  },
  {
   "cell_type": "code",
   "execution_count": 251,
   "metadata": {},
   "outputs": [
    {
     "data": {
      "text/plain": [
       "['sqft_living',\n",
       " 'bedrooms',\n",
       " 'bathrooms',\n",
       " 'floors',\n",
       " 'diffCurrentAndBuild',\n",
       " 'sqft_above',\n",
       " 'sqft_living15',\n",
       " 'sqft_lot15',\n",
       " 'diffCurrentAndRenovated',\n",
       " 'zipcodeVec',\n",
       " 'waterfrontVec',\n",
       " 'gradeVec',\n",
       " 'conditionVec',\n",
       " 'viewVec']"
      ]
     },
     "execution_count": 251,
     "metadata": {},
     "output_type": "execute_result"
    }
   ],
   "source": [
    "all_cols"
   ]
  },
  {
   "cell_type": "code",
   "execution_count": 252,
   "metadata": {},
   "outputs": [
    {
     "data": {
      "text/plain": [
       "DataFrame[sqft_living: float, bedrooms: float, bathrooms: float, floors: float, diffCurrentAndBuild: float, sqft_above: float, sqft_living15: float, sqft_lot15: float, diffCurrentAndRenovated: float, zipcodeVec: vector, waterfrontVec: vector, gradeVec: vector, conditionVec: vector, viewVec: vector]"
      ]
     },
     "execution_count": 252,
     "metadata": {},
     "output_type": "execute_result"
    }
   ],
   "source": [
    "input_df.select(all_cols)"
   ]
  },
  {
   "cell_type": "code",
   "execution_count": 255,
   "metadata": {
    "scrolled": true
   },
   "outputs": [
    {
     "name": "stdout",
     "output_type": "stream",
     "text": [
      "+------------+---------------+---------+--------+---------+-----------+--------+------+----------+----+---------+-----+----------+-------------+--------+------------+-------+-------+--------+-------------+----------+-------------------+-----------------------+------------+---------------+---------------+-------------+----------+--------------+--------------+-------------+---------+-------------+--------------------+\n",
      "|          id|           date|    price|bedrooms|bathrooms|sqft_living|sqft_lot|floors|waterfront|view|condition|grade|sqft_above|sqft_basement|yr_built|yr_renovated|zipcode|    lat|    long|sqft_living15|sqft_lot15|diffCurrentAndBuild|diffCurrentAndRenovated|zipcodeIndex|     zipcodeVec|waterfrontIndex|waterfrontVec|gradeIndex|      gradeVec|conditionIndex| conditionVec|viewIndex|      viewVec|            features|\n",
      "+------------+---------------+---------+--------+---------+-----------+--------+------+----------+----+---------+-----+----------+-------------+--------+------------+-------+-------+--------+-------------+----------+-------------------+-----------------------+------------+---------------+---------------+-------------+----------+--------------+--------------+-------------+---------+-------------+--------------------+\n",
      "| 7.1293005E9|20141013T000000| 221900.0|     3.0|      1.0|     1180.0|  5650.0|   1.0|       0.0| 0.0|      3.0|  7.0|    1180.0|          0.0|  1955.0|         0.0|98178.0|47.5112|-122.257|       1340.0|    5650.0|               61.0|                 2016.0|        45.0|(69,[45],[1.0])|            0.0|(1,[0],[1.0])|       0.0|(11,[0],[1.0])|           0.0|(4,[0],[1.0])|      0.0|(4,[0],[1.0])|(98,[0,1,2,3,4,5,...|\n",
      "|    6.4141E9|20141209T000000| 538000.0|     3.0|     2.25|     2570.0|  7242.0|   2.0|       0.0| 0.0|      3.0|  7.0|    2170.0|        400.0|  1951.0|      1991.0|98125.0| 47.721|-122.319|       1690.0|    7639.0|               65.0|                   25.0|        17.0|(69,[17],[1.0])|            0.0|(1,[0],[1.0])|       0.0|(11,[0],[1.0])|           0.0|(4,[0],[1.0])|      0.0|(4,[0],[1.0])|(98,[0,1,2,3,4,5,...|\n",
      "| 5.6315003E9|20150225T000000| 180000.0|     2.0|      1.0|      770.0| 10000.0|   1.0|       0.0| 0.0|      3.0|  6.0|     770.0|          0.0|  1933.0|         0.0|98028.0|47.7379|-122.233|       2720.0|    8062.0|               83.0|                 2016.0|        34.0|(69,[34],[1.0])|            0.0|(1,[0],[1.0])|       3.0|(11,[3],[1.0])|           0.0|(4,[0],[1.0])|      0.0|(4,[0],[1.0])|(98,[0,1,2,3,4,5,...|\n",
      "|2.48720077E9|20141209T000000| 604000.0|     4.0|      3.0|     1960.0|  5000.0|   1.0|       0.0| 0.0|      5.0|  7.0|    1050.0|        910.0|  1965.0|         0.0|98136.0|47.5208|-122.393|       1360.0|    5000.0|               51.0|                 2016.0|        44.0|(69,[44],[1.0])|            0.0|(1,[0],[1.0])|       0.0|(11,[0],[1.0])|           2.0|(4,[2],[1.0])|      0.0|(4,[0],[1.0])|(98,[0,1,2,3,4,5,...|\n",
      "|1.95440051E9|20150218T000000| 510000.0|     3.0|      2.0|     1680.0|  8080.0|   1.0|       0.0| 0.0|      3.0|  8.0|    1680.0|          0.0|  1987.0|         0.0|98074.0|47.6168|-122.045|       1800.0|    7503.0|               29.0|                 2016.0|        14.0|(69,[14],[1.0])|            0.0|(1,[0],[1.0])|       1.0|(11,[1],[1.0])|           0.0|(4,[0],[1.0])|      0.0|(4,[0],[1.0])|(98,[0,1,2,3,4,5,...|\n",
      "| 7.2375501E9|20140512T000000|1225000.0|     4.0|      4.5|     5420.0|101930.0|   1.0|       0.0| 0.0|      3.0| 11.0|    3890.0|       1530.0|  2001.0|         0.0|98053.0|47.6561|-122.005|       4760.0|  101930.0|               15.0|                 2016.0|        19.0|(69,[19],[1.0])|            0.0|(1,[0],[1.0])|       5.0|(11,[5],[1.0])|           0.0|(4,[0],[1.0])|      0.0|(4,[0],[1.0])|(98,[0,1,2,3,4,5,...|\n",
      "|1.32140006E9|20140627T000000| 257500.0|     3.0|     2.25|     1715.0|  6819.0|   2.0|       0.0| 0.0|      3.0|  7.0|    1715.0|          0.0|  1995.0|         0.0|98003.0|47.3097|-122.327|       2238.0|    6819.0|               21.0|                 2016.0|        37.0|(69,[37],[1.0])|            0.0|(1,[0],[1.0])|       0.0|(11,[0],[1.0])|           0.0|(4,[0],[1.0])|      0.0|(4,[0],[1.0])|(98,[0,1,2,3,4,5,...|\n",
      "|2.00800026E9|20150115T000000| 291850.0|     3.0|      1.5|     1060.0|  9711.0|   1.0|       0.0| 0.0|      3.0|  7.0|    1060.0|          0.0|  1963.0|         0.0|98198.0|47.4095|-122.315|       1650.0|    9711.0|               53.0|                 2016.0|        36.0|(69,[36],[1.0])|            0.0|(1,[0],[1.0])|       0.0|(11,[0],[1.0])|           0.0|(4,[0],[1.0])|      0.0|(4,[0],[1.0])|(98,[0,1,2,3,4,5,...|\n",
      "|2.41460019E9|20150415T000000| 229500.0|     3.0|      1.0|     1780.0|  7470.0|   1.0|       0.0| 0.0|      3.0|  7.0|    1050.0|        730.0|  1960.0|         0.0|98146.0|47.5123|-122.337|       1780.0|    8113.0|               56.0|                 2016.0|        32.0|(69,[32],[1.0])|            0.0|(1,[0],[1.0])|       0.0|(11,[0],[1.0])|           0.0|(4,[0],[1.0])|      0.0|(4,[0],[1.0])|(98,[0,1,2,3,4,5,...|\n",
      "|3.79350016E9|20150312T000000| 323000.0|     3.0|      2.5|     1890.0|  6560.0|   2.0|       0.0| 0.0|      3.0|  7.0|    1890.0|          0.0|  2003.0|         0.0|98038.0|47.3684|-122.031|       2390.0|    7570.0|               13.0|                 2016.0|         1.0| (69,[1],[1.0])|            0.0|(1,[0],[1.0])|       0.0|(11,[0],[1.0])|           0.0|(4,[0],[1.0])|      0.0|(4,[0],[1.0])|(98,[0,1,2,3,4,5,...|\n",
      "|1.73680051E9|20150403T000000| 662500.0|     3.0|      2.5|     3560.0|  9796.0|   1.0|       0.0| 0.0|      3.0|  8.0|    1860.0|       1700.0|  1965.0|         0.0|98007.0|47.6007|-122.145|       2210.0|    8925.0|               51.0|                 2016.0|        59.0|(69,[59],[1.0])|            0.0|(1,[0],[1.0])|       1.0|(11,[1],[1.0])|           0.0|(4,[0],[1.0])|      0.0|(4,[0],[1.0])|(98,[0,1,2,3,4,5,...|\n",
      "| 9.2129004E9|20140527T000000| 468000.0|     2.0|      1.0|     1160.0|  6000.0|   1.0|       0.0| 0.0|      4.0|  7.0|     860.0|        300.0|  1942.0|         0.0|98115.0|  47.69|-122.292|       1330.0|    6000.0|               74.0|                 2016.0|         2.0| (69,[2],[1.0])|            0.0|(1,[0],[1.0])|       0.0|(11,[0],[1.0])|           1.0|(4,[1],[1.0])|      0.0|(4,[0],[1.0])|(98,[0,1,2,3,4,5,...|\n",
      "| 1.1410152E8|20140528T000000| 310000.0|     3.0|      1.0|     1430.0| 19901.0|   1.5|       0.0| 0.0|      4.0|  7.0|    1430.0|          0.0|  1927.0|         0.0|98028.0|47.7558|-122.229|       1780.0|   12697.0|               89.0|                 2016.0|        34.0|(69,[34],[1.0])|            0.0|(1,[0],[1.0])|       0.0|(11,[0],[1.0])|           1.0|(4,[1],[1.0])|      0.0|(4,[0],[1.0])|(98,[0,1,2,3,4,5,...|\n",
      "| 6.0546499E9|20141007T000000| 400000.0|     3.0|     1.75|     1370.0|  9680.0|   1.0|       0.0| 0.0|      4.0|  7.0|    1370.0|          0.0|  1977.0|         0.0|98074.0|47.6127|-122.045|       1370.0|   10208.0|               39.0|                 2016.0|        14.0|(69,[14],[1.0])|            0.0|(1,[0],[1.0])|       0.0|(11,[0],[1.0])|           1.0|(4,[1],[1.0])|      0.0|(4,[0],[1.0])|(98,[0,1,2,3,4,5,...|\n",
      "|1.17500058E9|20150312T000000| 530000.0|     5.0|      2.0|     1810.0|  4850.0|   1.5|       0.0| 0.0|      3.0|  7.0|    1810.0|          0.0|  1900.0|         0.0|98107.0|  47.67|-122.394|       1360.0|    4850.0|              116.0|                 2016.0|        43.0|(69,[43],[1.0])|            0.0|(1,[0],[1.0])|       0.0|(11,[0],[1.0])|           0.0|(4,[0],[1.0])|      0.0|(4,[0],[1.0])|(98,[0,1,2,3,4,5,...|\n",
      "| 9.2973005E9|20150124T000000| 650000.0|     4.0|      3.0|     2950.0|  5000.0|   2.0|       0.0| 3.0|      3.0|  9.0|    1980.0|        970.0|  1979.0|         0.0|98126.0|47.5714|-122.375|       2140.0|    4000.0|               37.0|                 2016.0|        22.0|(69,[22],[1.0])|            0.0|(1,[0],[1.0])|       2.0|(11,[2],[1.0])|           0.0|(4,[0],[1.0])|      2.0|(4,[2],[1.0])|(98,[0,1,2,3,4,5,...|\n",
      "|1.87550003E9|20140731T000000| 395000.0|     3.0|      2.0|     1890.0| 14040.0|   2.0|       0.0| 0.0|      3.0|  7.0|    1890.0|          0.0|  1994.0|         0.0|98019.0|47.7277|-121.962|       1890.0|   14018.0|               22.0|                 2016.0|        55.0|(69,[55],[1.0])|            0.0|(1,[0],[1.0])|       0.0|(11,[0],[1.0])|           0.0|(4,[0],[1.0])|      0.0|(4,[0],[1.0])|(98,[0,1,2,3,4,5,...|\n",
      "| 6.8652001E9|20140529T000000| 485000.0|     4.0|      1.0|     1600.0|  4300.0|   1.5|       0.0| 0.0|      4.0|  7.0|    1600.0|          0.0|  1916.0|         0.0|98103.0|47.6648|-122.343|       1610.0|    4300.0|              100.0|                 2016.0|         0.0| (69,[0],[1.0])|            0.0|(1,[0],[1.0])|       0.0|(11,[0],[1.0])|           1.0|(4,[1],[1.0])|      0.0|(4,[0],[1.0])|(98,[0,1,2,3,4,5,...|\n",
      "| 1.6000397E7|20141205T000000| 189000.0|     2.0|      1.0|     1200.0|  9850.0|   1.0|       0.0| 0.0|      4.0|  7.0|    1200.0|          0.0|  1921.0|         0.0|98002.0|47.3089| -122.21|       1060.0|    5095.0|               95.0|                 2016.0|        52.0|(69,[52],[1.0])|            0.0|(1,[0],[1.0])|       0.0|(11,[0],[1.0])|           1.0|(4,[1],[1.0])|      0.0|(4,[0],[1.0])|(98,[0,1,2,3,4,5,...|\n",
      "| 7.9832003E9|20150424T000000| 230000.0|     3.0|      1.0|     1250.0|  9774.0|   1.0|       0.0| 0.0|      4.0|  7.0|    1250.0|          0.0|  1969.0|         0.0|98003.0|47.3343|-122.306|       1280.0|    8850.0|               47.0|                 2016.0|        37.0|(69,[37],[1.0])|            0.0|(1,[0],[1.0])|       0.0|(11,[0],[1.0])|           1.0|(4,[1],[1.0])|      0.0|(4,[0],[1.0])|(98,[0,1,2,3,4,5,...|\n",
      "+------------+---------------+---------+--------+---------+-----------+--------+------+----------+----+---------+-----+----------+-------------+--------+------------+-------+-------+--------+-------------+----------+-------------------+-----------------------+------------+---------------+---------------+-------------+----------+--------------+--------------+-------------+---------+-------------+--------------------+\n",
      "only showing top 20 rows\n",
      "\n"
     ]
    }
   ],
   "source": [
    "assembler = VectorAssembler( inputCols = all_cols, outputCol = \"features\")\n",
    "output = assembler.transform(input_df)\n",
    "output.show()"
   ]
  },
  {
   "cell_type": "code",
   "execution_count": 256,
   "metadata": {},
   "outputs": [],
   "source": [
    "train_df, test_df = output.randomSplit( [0.75, 0.25], seed = 42 )"
   ]
  },
  {
   "cell_type": "code",
   "execution_count": 258,
   "metadata": {},
   "outputs": [
    {
     "ename": "IllegalArgumentException",
     "evalue": "'Field \"label\" does not exist.'",
     "output_type": "error",
     "traceback": [
      "\u001b[0;31m---------------------------------------------------------------------------\u001b[0m",
      "\u001b[0;31mPy4JJavaError\u001b[0m                             Traceback (most recent call last)",
      "\u001b[0;32m/opt/spark-2.2.2/python/pyspark/sql/utils.py\u001b[0m in \u001b[0;36mdeco\u001b[0;34m(*a, **kw)\u001b[0m\n\u001b[1;32m     62\u001b[0m         \u001b[0;32mtry\u001b[0m\u001b[0;34m:\u001b[0m\u001b[0;34m\u001b[0m\u001b[0m\n\u001b[0;32m---> 63\u001b[0;31m             \u001b[0;32mreturn\u001b[0m \u001b[0mf\u001b[0m\u001b[0;34m(\u001b[0m\u001b[0;34m*\u001b[0m\u001b[0ma\u001b[0m\u001b[0;34m,\u001b[0m \u001b[0;34m**\u001b[0m\u001b[0mkw\u001b[0m\u001b[0;34m)\u001b[0m\u001b[0;34m\u001b[0m\u001b[0m\n\u001b[0m\u001b[1;32m     64\u001b[0m         \u001b[0;32mexcept\u001b[0m \u001b[0mpy4j\u001b[0m\u001b[0;34m.\u001b[0m\u001b[0mprotocol\u001b[0m\u001b[0;34m.\u001b[0m\u001b[0mPy4JJavaError\u001b[0m \u001b[0;32mas\u001b[0m \u001b[0me\u001b[0m\u001b[0;34m:\u001b[0m\u001b[0;34m\u001b[0m\u001b[0m\n",
      "\u001b[0;32m/opt/spark-2.2.2/python/lib/py4j-0.10.7-src.zip/py4j/protocol.py\u001b[0m in \u001b[0;36mget_return_value\u001b[0;34m(answer, gateway_client, target_id, name)\u001b[0m\n\u001b[1;32m    327\u001b[0m                     \u001b[0;34m\"An error occurred while calling {0}{1}{2}.\\n\"\u001b[0m\u001b[0;34m.\u001b[0m\u001b[0;34m\u001b[0m\u001b[0m\n\u001b[0;32m--> 328\u001b[0;31m                     format(target_id, \".\", name), value)\n\u001b[0m\u001b[1;32m    329\u001b[0m             \u001b[0;32melse\u001b[0m\u001b[0;34m:\u001b[0m\u001b[0;34m\u001b[0m\u001b[0m\n",
      "\u001b[0;31mPy4JJavaError\u001b[0m: An error occurred while calling o5985.fit.\n: java.lang.IllegalArgumentException: Field \"label\" does not exist.\n\tat org.apache.spark.sql.types.StructType$$anonfun$apply$1.apply(StructType.scala:266)\n\tat org.apache.spark.sql.types.StructType$$anonfun$apply$1.apply(StructType.scala:266)\n\tat scala.collection.MapLike$class.getOrElse(MapLike.scala:128)\n\tat scala.collection.AbstractMap.getOrElse(Map.scala:59)\n\tat org.apache.spark.sql.types.StructType.apply(StructType.scala:265)\n\tat org.apache.spark.ml.util.SchemaUtils$.checkNumericType(SchemaUtils.scala:71)\n\tat org.apache.spark.ml.PredictorParams$class.validateAndTransformSchema(Predictor.scala:53)\n\tat org.apache.spark.ml.Predictor.validateAndTransformSchema(Predictor.scala:82)\n\tat org.apache.spark.ml.Predictor.transformSchema(Predictor.scala:144)\n\tat org.apache.spark.ml.PipelineStage.transformSchema(Pipeline.scala:74)\n\tat org.apache.spark.ml.Predictor.fit(Predictor.scala:100)\n\tat org.apache.spark.ml.Predictor.fit(Predictor.scala:82)\n\tat sun.reflect.NativeMethodAccessorImpl.invoke0(Native Method)\n\tat sun.reflect.NativeMethodAccessorImpl.invoke(NativeMethodAccessorImpl.java:62)\n\tat sun.reflect.DelegatingMethodAccessorImpl.invoke(DelegatingMethodAccessorImpl.java:43)\n\tat java.lang.reflect.Method.invoke(Method.java:498)\n\tat py4j.reflection.MethodInvoker.invoke(MethodInvoker.java:244)\n\tat py4j.reflection.ReflectionEngine.invoke(ReflectionEngine.java:357)\n\tat py4j.Gateway.invoke(Gateway.java:282)\n\tat py4j.commands.AbstractCommand.invokeMethod(AbstractCommand.java:132)\n\tat py4j.commands.CallCommand.execute(CallCommand.java:79)\n\tat py4j.GatewayConnection.run(GatewayConnection.java:238)\n\tat java.lang.Thread.run(Thread.java:748)\n",
      "\nDuring handling of the above exception, another exception occurred:\n",
      "\u001b[0;31mIllegalArgumentException\u001b[0m                  Traceback (most recent call last)",
      "\u001b[0;32m<ipython-input-258-a5b75536e648>\u001b[0m in \u001b[0;36m<module>\u001b[0;34m()\u001b[0m\n\u001b[1;32m      1\u001b[0m \u001b[0mlinreg\u001b[0m \u001b[0;34m=\u001b[0m \u001b[0mLinearRegression\u001b[0m\u001b[0;34m(\u001b[0m\u001b[0mmaxIter\u001b[0m\u001b[0;34m=\u001b[0m\u001b[0;36m500\u001b[0m\u001b[0;34m,\u001b[0m \u001b[0mregParam\u001b[0m\u001b[0;34m=\u001b[0m\u001b[0;36m0.0\u001b[0m\u001b[0;34m)\u001b[0m\u001b[0;34m\u001b[0m\u001b[0m\n\u001b[0;32m----> 2\u001b[0;31m \u001b[0mlm\u001b[0m \u001b[0;34m=\u001b[0m \u001b[0mlinreg\u001b[0m\u001b[0;34m.\u001b[0m\u001b[0mfit\u001b[0m\u001b[0;34m(\u001b[0m \u001b[0mtrain_df\u001b[0m \u001b[0;34m)\u001b[0m\u001b[0;34m\u001b[0m\u001b[0m\n\u001b[0m\u001b[1;32m      3\u001b[0m \u001b[0mprint\u001b[0m\u001b[0;34m(\u001b[0m\u001b[0mlm\u001b[0m\u001b[0;34m.\u001b[0m\u001b[0mintercept\u001b[0m\u001b[0;34m)\u001b[0m\u001b[0;34m\u001b[0m\u001b[0m\n\u001b[1;32m      4\u001b[0m \u001b[0mprint\u001b[0m\u001b[0;34m(\u001b[0m\u001b[0mlm\u001b[0m\u001b[0;34m.\u001b[0m\u001b[0mcoefficients\u001b[0m\u001b[0;34m)\u001b[0m\u001b[0;34m\u001b[0m\u001b[0m\n",
      "\u001b[0;32m/opt/spark-2.2.2/python/pyspark/ml/base.py\u001b[0m in \u001b[0;36mfit\u001b[0;34m(self, dataset, params)\u001b[0m\n\u001b[1;32m     62\u001b[0m                 \u001b[0;32mreturn\u001b[0m \u001b[0mself\u001b[0m\u001b[0;34m.\u001b[0m\u001b[0mcopy\u001b[0m\u001b[0;34m(\u001b[0m\u001b[0mparams\u001b[0m\u001b[0;34m)\u001b[0m\u001b[0;34m.\u001b[0m\u001b[0m_fit\u001b[0m\u001b[0;34m(\u001b[0m\u001b[0mdataset\u001b[0m\u001b[0;34m)\u001b[0m\u001b[0;34m\u001b[0m\u001b[0m\n\u001b[1;32m     63\u001b[0m             \u001b[0;32melse\u001b[0m\u001b[0;34m:\u001b[0m\u001b[0;34m\u001b[0m\u001b[0m\n\u001b[0;32m---> 64\u001b[0;31m                 \u001b[0;32mreturn\u001b[0m \u001b[0mself\u001b[0m\u001b[0;34m.\u001b[0m\u001b[0m_fit\u001b[0m\u001b[0;34m(\u001b[0m\u001b[0mdataset\u001b[0m\u001b[0;34m)\u001b[0m\u001b[0;34m\u001b[0m\u001b[0m\n\u001b[0m\u001b[1;32m     65\u001b[0m         \u001b[0;32melse\u001b[0m\u001b[0;34m:\u001b[0m\u001b[0;34m\u001b[0m\u001b[0m\n\u001b[1;32m     66\u001b[0m             raise ValueError(\"Params must be either a param map or a list/tuple of param maps, \"\n",
      "\u001b[0;32m/opt/spark-2.2.2/python/pyspark/ml/wrapper.py\u001b[0m in \u001b[0;36m_fit\u001b[0;34m(self, dataset)\u001b[0m\n\u001b[1;32m    263\u001b[0m \u001b[0;34m\u001b[0m\u001b[0m\n\u001b[1;32m    264\u001b[0m     \u001b[0;32mdef\u001b[0m \u001b[0m_fit\u001b[0m\u001b[0;34m(\u001b[0m\u001b[0mself\u001b[0m\u001b[0;34m,\u001b[0m \u001b[0mdataset\u001b[0m\u001b[0;34m)\u001b[0m\u001b[0;34m:\u001b[0m\u001b[0;34m\u001b[0m\u001b[0m\n\u001b[0;32m--> 265\u001b[0;31m         \u001b[0mjava_model\u001b[0m \u001b[0;34m=\u001b[0m \u001b[0mself\u001b[0m\u001b[0;34m.\u001b[0m\u001b[0m_fit_java\u001b[0m\u001b[0;34m(\u001b[0m\u001b[0mdataset\u001b[0m\u001b[0;34m)\u001b[0m\u001b[0;34m\u001b[0m\u001b[0m\n\u001b[0m\u001b[1;32m    266\u001b[0m         \u001b[0;32mreturn\u001b[0m \u001b[0mself\u001b[0m\u001b[0;34m.\u001b[0m\u001b[0m_create_model\u001b[0m\u001b[0;34m(\u001b[0m\u001b[0mjava_model\u001b[0m\u001b[0;34m)\u001b[0m\u001b[0;34m\u001b[0m\u001b[0m\n\u001b[1;32m    267\u001b[0m \u001b[0;34m\u001b[0m\u001b[0m\n",
      "\u001b[0;32m/opt/spark-2.2.2/python/pyspark/ml/wrapper.py\u001b[0m in \u001b[0;36m_fit_java\u001b[0;34m(self, dataset)\u001b[0m\n\u001b[1;32m    260\u001b[0m         \"\"\"\n\u001b[1;32m    261\u001b[0m         \u001b[0mself\u001b[0m\u001b[0;34m.\u001b[0m\u001b[0m_transfer_params_to_java\u001b[0m\u001b[0;34m(\u001b[0m\u001b[0;34m)\u001b[0m\u001b[0;34m\u001b[0m\u001b[0m\n\u001b[0;32m--> 262\u001b[0;31m         \u001b[0;32mreturn\u001b[0m \u001b[0mself\u001b[0m\u001b[0;34m.\u001b[0m\u001b[0m_java_obj\u001b[0m\u001b[0;34m.\u001b[0m\u001b[0mfit\u001b[0m\u001b[0;34m(\u001b[0m\u001b[0mdataset\u001b[0m\u001b[0;34m.\u001b[0m\u001b[0m_jdf\u001b[0m\u001b[0;34m)\u001b[0m\u001b[0;34m\u001b[0m\u001b[0m\n\u001b[0m\u001b[1;32m    263\u001b[0m \u001b[0;34m\u001b[0m\u001b[0m\n\u001b[1;32m    264\u001b[0m     \u001b[0;32mdef\u001b[0m \u001b[0m_fit\u001b[0m\u001b[0;34m(\u001b[0m\u001b[0mself\u001b[0m\u001b[0;34m,\u001b[0m \u001b[0mdataset\u001b[0m\u001b[0;34m)\u001b[0m\u001b[0;34m:\u001b[0m\u001b[0;34m\u001b[0m\u001b[0m\n",
      "\u001b[0;32m/opt/spark-2.2.2/python/lib/py4j-0.10.7-src.zip/py4j/java_gateway.py\u001b[0m in \u001b[0;36m__call__\u001b[0;34m(self, *args)\u001b[0m\n\u001b[1;32m   1255\u001b[0m         \u001b[0manswer\u001b[0m \u001b[0;34m=\u001b[0m \u001b[0mself\u001b[0m\u001b[0;34m.\u001b[0m\u001b[0mgateway_client\u001b[0m\u001b[0;34m.\u001b[0m\u001b[0msend_command\u001b[0m\u001b[0;34m(\u001b[0m\u001b[0mcommand\u001b[0m\u001b[0;34m)\u001b[0m\u001b[0;34m\u001b[0m\u001b[0m\n\u001b[1;32m   1256\u001b[0m         return_value = get_return_value(\n\u001b[0;32m-> 1257\u001b[0;31m             answer, self.gateway_client, self.target_id, self.name)\n\u001b[0m\u001b[1;32m   1258\u001b[0m \u001b[0;34m\u001b[0m\u001b[0m\n\u001b[1;32m   1259\u001b[0m         \u001b[0;32mfor\u001b[0m \u001b[0mtemp_arg\u001b[0m \u001b[0;32min\u001b[0m \u001b[0mtemp_args\u001b[0m\u001b[0;34m:\u001b[0m\u001b[0;34m\u001b[0m\u001b[0m\n",
      "\u001b[0;32m/opt/spark-2.2.2/python/pyspark/sql/utils.py\u001b[0m in \u001b[0;36mdeco\u001b[0;34m(*a, **kw)\u001b[0m\n\u001b[1;32m     77\u001b[0m                 \u001b[0;32mraise\u001b[0m \u001b[0mQueryExecutionException\u001b[0m\u001b[0;34m(\u001b[0m\u001b[0ms\u001b[0m\u001b[0;34m.\u001b[0m\u001b[0msplit\u001b[0m\u001b[0;34m(\u001b[0m\u001b[0;34m': '\u001b[0m\u001b[0;34m,\u001b[0m \u001b[0;36m1\u001b[0m\u001b[0;34m)\u001b[0m\u001b[0;34m[\u001b[0m\u001b[0;36m1\u001b[0m\u001b[0;34m]\u001b[0m\u001b[0;34m,\u001b[0m \u001b[0mstackTrace\u001b[0m\u001b[0;34m)\u001b[0m\u001b[0;34m\u001b[0m\u001b[0m\n\u001b[1;32m     78\u001b[0m             \u001b[0;32mif\u001b[0m \u001b[0ms\u001b[0m\u001b[0;34m.\u001b[0m\u001b[0mstartswith\u001b[0m\u001b[0;34m(\u001b[0m\u001b[0;34m'java.lang.IllegalArgumentException: '\u001b[0m\u001b[0;34m)\u001b[0m\u001b[0;34m:\u001b[0m\u001b[0;34m\u001b[0m\u001b[0m\n\u001b[0;32m---> 79\u001b[0;31m                 \u001b[0;32mraise\u001b[0m \u001b[0mIllegalArgumentException\u001b[0m\u001b[0;34m(\u001b[0m\u001b[0ms\u001b[0m\u001b[0;34m.\u001b[0m\u001b[0msplit\u001b[0m\u001b[0;34m(\u001b[0m\u001b[0;34m': '\u001b[0m\u001b[0;34m,\u001b[0m \u001b[0;36m1\u001b[0m\u001b[0;34m)\u001b[0m\u001b[0;34m[\u001b[0m\u001b[0;36m1\u001b[0m\u001b[0;34m]\u001b[0m\u001b[0;34m,\u001b[0m \u001b[0mstackTrace\u001b[0m\u001b[0;34m)\u001b[0m\u001b[0;34m\u001b[0m\u001b[0m\n\u001b[0m\u001b[1;32m     80\u001b[0m             \u001b[0;32mraise\u001b[0m\u001b[0;34m\u001b[0m\u001b[0m\n\u001b[1;32m     81\u001b[0m     \u001b[0;32mreturn\u001b[0m \u001b[0mdeco\u001b[0m\u001b[0;34m\u001b[0m\u001b[0m\n",
      "\u001b[0;31mIllegalArgumentException\u001b[0m: 'Field \"label\" does not exist.'"
     ]
    }
   ],
   "source": [
    "linreg = LinearRegression(maxIter=500, regParam=0.0)\n",
    "lm = linreg.fit( train_df )\n",
    "print(lm.intercept)\n",
    "print(lm.coefficients)"
   ]
  },
  {
   "cell_type": "code",
   "execution_count": null,
   "metadata": {},
   "outputs": [],
   "source": []
  },
  {
   "cell_type": "code",
   "execution_count": null,
   "metadata": {},
   "outputs": [],
   "source": []
  }
 ],
 "metadata": {
  "kernelspec": {
   "display_name": "Python 3",
   "language": "python",
   "name": "python3"
  },
  "language_info": {
   "codemirror_mode": {
    "name": "ipython",
    "version": 3
   },
   "file_extension": ".py",
   "mimetype": "text/x-python",
   "name": "python",
   "nbconvert_exporter": "python",
   "pygments_lexer": "ipython3",
   "version": "3.6.5"
  }
 },
 "nbformat": 4,
 "nbformat_minor": 2
}
